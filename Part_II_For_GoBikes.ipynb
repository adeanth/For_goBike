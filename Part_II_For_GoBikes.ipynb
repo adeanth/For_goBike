{
 "cells": [
  {
   "cell_type": "markdown",
   "metadata": {
    "slideshow": {
     "slide_type": "slide"
    }
   },
   "source": [
    "# Ford GoBikes February Analysis\n",
    "## by (Anthony Isaiah)"
   ]
  },
  {
   "cell_type": "markdown",
   "metadata": {
    "slideshow": {
     "slide_type": "slide"
    }
   },
   "source": [
    "## Investigation Overview\n",
    "\n",
    "\n",
    "> Ford Gobikes system is a wide bike sharing system and in this part i will like to look at the demand of bikes in timely basis. Also i will be looking at the different kind of members.\n",
    "\n",
    "## Dataset Overview\n",
    "\n",
    "> This dataset includes information about individual rides made in a bike-sharing system covering the greater San Francisco Bay area, exploring the performance of the Ford GoBike data of the month of february 2019.\n"
   ]
  },
  {
   "cell_type": "code",
   "execution_count": 1,
   "metadata": {
    "slideshow": {
     "slide_type": "skip"
    }
   },
   "outputs": [],
   "source": [
    "# import all packages and set plots to be embedded inline\n",
    "import numpy as np\n",
    "import pandas as pd\n",
    "import matplotlib.pyplot as plt\n",
    "import seaborn as sns\n",
    "base_color = sns.color_palette()[0]\n",
    "\n",
    "%matplotlib inline\n",
    "\n",
    "# suppress warnings from final output\n",
    "import warnings\n",
    "warnings.simplefilter(\"ignore\")"
   ]
  },
  {
   "cell_type": "code",
   "execution_count": 2,
   "metadata": {
    "scrolled": true,
    "slideshow": {
     "slide_type": "skip"
    }
   },
   "outputs": [
    {
     "data": {
      "text/html": [
       "<div>\n",
       "<style scoped>\n",
       "    .dataframe tbody tr th:only-of-type {\n",
       "        vertical-align: middle;\n",
       "    }\n",
       "\n",
       "    .dataframe tbody tr th {\n",
       "        vertical-align: top;\n",
       "    }\n",
       "\n",
       "    .dataframe thead th {\n",
       "        text-align: right;\n",
       "    }\n",
       "</style>\n",
       "<table border=\"1\" class=\"dataframe\">\n",
       "  <thead>\n",
       "    <tr style=\"text-align: right;\">\n",
       "      <th></th>\n",
       "      <th>Unnamed: 0</th>\n",
       "      <th>duration_sec</th>\n",
       "      <th>start_time</th>\n",
       "      <th>end_time</th>\n",
       "      <th>start_station_id</th>\n",
       "      <th>start_station_name</th>\n",
       "      <th>start_station_latitude</th>\n",
       "      <th>start_station_longitude</th>\n",
       "      <th>end_station_id</th>\n",
       "      <th>end_station_name</th>\n",
       "      <th>...</th>\n",
       "      <th>bike_id</th>\n",
       "      <th>user_type</th>\n",
       "      <th>member_birth_year</th>\n",
       "      <th>member_gender</th>\n",
       "      <th>bike_share</th>\n",
       "      <th>member_age</th>\n",
       "      <th>start_time_hour</th>\n",
       "      <th>end_time_hour</th>\n",
       "      <th>duration_min</th>\n",
       "      <th>start_day_of_week</th>\n",
       "    </tr>\n",
       "  </thead>\n",
       "  <tbody>\n",
       "    <tr>\n",
       "      <th>0</th>\n",
       "      <td>0</td>\n",
       "      <td>52185</td>\n",
       "      <td>2019-02-28 17:32:10.145</td>\n",
       "      <td>2019-03-01 08:01:55.975</td>\n",
       "      <td>21.0</td>\n",
       "      <td>Montgomery St BART Station (Market St at 2nd St)</td>\n",
       "      <td>37.789625</td>\n",
       "      <td>-122.400811</td>\n",
       "      <td>13.0</td>\n",
       "      <td>Commercial St at Montgomery St</td>\n",
       "      <td>...</td>\n",
       "      <td>4902</td>\n",
       "      <td>Customer</td>\n",
       "      <td>1984</td>\n",
       "      <td>Male</td>\n",
       "      <td>No</td>\n",
       "      <td>35</td>\n",
       "      <td>17</td>\n",
       "      <td>8</td>\n",
       "      <td>869</td>\n",
       "      <td>Thu</td>\n",
       "    </tr>\n",
       "    <tr>\n",
       "      <th>1</th>\n",
       "      <td>2</td>\n",
       "      <td>61854</td>\n",
       "      <td>2019-02-28 12:13:13.218</td>\n",
       "      <td>2019-03-01 05:24:08.146</td>\n",
       "      <td>86.0</td>\n",
       "      <td>Market St at Dolores St</td>\n",
       "      <td>37.769305</td>\n",
       "      <td>-122.426826</td>\n",
       "      <td>3.0</td>\n",
       "      <td>Powell St BART Station (Market St at 4th St)</td>\n",
       "      <td>...</td>\n",
       "      <td>5905</td>\n",
       "      <td>Customer</td>\n",
       "      <td>1972</td>\n",
       "      <td>Male</td>\n",
       "      <td>No</td>\n",
       "      <td>47</td>\n",
       "      <td>12</td>\n",
       "      <td>5</td>\n",
       "      <td>1030</td>\n",
       "      <td>Thu</td>\n",
       "    </tr>\n",
       "    <tr>\n",
       "      <th>2</th>\n",
       "      <td>3</td>\n",
       "      <td>36490</td>\n",
       "      <td>2019-02-28 17:54:26.010</td>\n",
       "      <td>2019-03-01 04:02:36.842</td>\n",
       "      <td>375.0</td>\n",
       "      <td>Grove St at Masonic Ave</td>\n",
       "      <td>37.774836</td>\n",
       "      <td>-122.446546</td>\n",
       "      <td>70.0</td>\n",
       "      <td>Central Ave at Fell St</td>\n",
       "      <td>...</td>\n",
       "      <td>6638</td>\n",
       "      <td>Subscriber</td>\n",
       "      <td>1989</td>\n",
       "      <td>Other</td>\n",
       "      <td>No</td>\n",
       "      <td>30</td>\n",
       "      <td>17</td>\n",
       "      <td>4</td>\n",
       "      <td>608</td>\n",
       "      <td>Thu</td>\n",
       "    </tr>\n",
       "    <tr>\n",
       "      <th>3</th>\n",
       "      <td>4</td>\n",
       "      <td>1585</td>\n",
       "      <td>2019-02-28 23:54:18.549</td>\n",
       "      <td>2019-03-01 00:20:44.074</td>\n",
       "      <td>7.0</td>\n",
       "      <td>Frank H Ogawa Plaza</td>\n",
       "      <td>37.804562</td>\n",
       "      <td>-122.271738</td>\n",
       "      <td>222.0</td>\n",
       "      <td>10th Ave at E 15th St</td>\n",
       "      <td>...</td>\n",
       "      <td>4898</td>\n",
       "      <td>Subscriber</td>\n",
       "      <td>1974</td>\n",
       "      <td>Male</td>\n",
       "      <td>Yes</td>\n",
       "      <td>45</td>\n",
       "      <td>23</td>\n",
       "      <td>0</td>\n",
       "      <td>26</td>\n",
       "      <td>Thu</td>\n",
       "    </tr>\n",
       "    <tr>\n",
       "      <th>4</th>\n",
       "      <td>5</td>\n",
       "      <td>1793</td>\n",
       "      <td>2019-02-28 23:49:58.632</td>\n",
       "      <td>2019-03-01 00:19:51.760</td>\n",
       "      <td>93.0</td>\n",
       "      <td>4th St at Mission Bay Blvd S</td>\n",
       "      <td>37.770407</td>\n",
       "      <td>-122.391198</td>\n",
       "      <td>323.0</td>\n",
       "      <td>Broadway at Kearny</td>\n",
       "      <td>...</td>\n",
       "      <td>5200</td>\n",
       "      <td>Subscriber</td>\n",
       "      <td>1959</td>\n",
       "      <td>Male</td>\n",
       "      <td>No</td>\n",
       "      <td>60</td>\n",
       "      <td>23</td>\n",
       "      <td>0</td>\n",
       "      <td>29</td>\n",
       "      <td>Thu</td>\n",
       "    </tr>\n",
       "  </tbody>\n",
       "</table>\n",
       "<p>5 rows × 22 columns</p>\n",
       "</div>"
      ],
      "text/plain": [
       "   Unnamed: 0  duration_sec               start_time                 end_time  \\\n",
       "0           0         52185  2019-02-28 17:32:10.145  2019-03-01 08:01:55.975   \n",
       "1           2         61854  2019-02-28 12:13:13.218  2019-03-01 05:24:08.146   \n",
       "2           3         36490  2019-02-28 17:54:26.010  2019-03-01 04:02:36.842   \n",
       "3           4          1585  2019-02-28 23:54:18.549  2019-03-01 00:20:44.074   \n",
       "4           5          1793  2019-02-28 23:49:58.632  2019-03-01 00:19:51.760   \n",
       "\n",
       "   start_station_id                                start_station_name  \\\n",
       "0              21.0  Montgomery St BART Station (Market St at 2nd St)   \n",
       "1              86.0                           Market St at Dolores St   \n",
       "2             375.0                           Grove St at Masonic Ave   \n",
       "3               7.0                               Frank H Ogawa Plaza   \n",
       "4              93.0                      4th St at Mission Bay Blvd S   \n",
       "\n",
       "   start_station_latitude  start_station_longitude  end_station_id  \\\n",
       "0               37.789625              -122.400811            13.0   \n",
       "1               37.769305              -122.426826             3.0   \n",
       "2               37.774836              -122.446546            70.0   \n",
       "3               37.804562              -122.271738           222.0   \n",
       "4               37.770407              -122.391198           323.0   \n",
       "\n",
       "                               end_station_name        ...          bike_id  \\\n",
       "0                Commercial St at Montgomery St        ...             4902   \n",
       "1  Powell St BART Station (Market St at 4th St)        ...             5905   \n",
       "2                        Central Ave at Fell St        ...             6638   \n",
       "3                         10th Ave at E 15th St        ...             4898   \n",
       "4                            Broadway at Kearny        ...             5200   \n",
       "\n",
       "    user_type  member_birth_year member_gender  bike_share member_age  \\\n",
       "0    Customer               1984          Male          No         35   \n",
       "1    Customer               1972          Male          No         47   \n",
       "2  Subscriber               1989         Other          No         30   \n",
       "3  Subscriber               1974          Male         Yes         45   \n",
       "4  Subscriber               1959          Male          No         60   \n",
       "\n",
       "  start_time_hour  end_time_hour  duration_min  start_day_of_week  \n",
       "0              17              8           869                Thu  \n",
       "1              12              5          1030                Thu  \n",
       "2              17              4           608                Thu  \n",
       "3              23              0            26                Thu  \n",
       "4              23              0            29                Thu  \n",
       "\n",
       "[5 rows x 22 columns]"
      ]
     },
     "execution_count": 2,
     "metadata": {},
     "output_type": "execute_result"
    }
   ],
   "source": [
    "# loading the dataset into a pandas dataframe\n",
    "df_data_clean= pd.read_csv('fordgobike_master.csv')\n",
    "df_data_clean.head()\n"
   ]
  },
  {
   "cell_type": "markdown",
   "metadata": {
    "slideshow": {
     "slide_type": "slide"
    }
   },
   "source": [
    "# 1.Ford GoBike Customers vs. Subscribers in 2019\n",
    " From the result gotten from the Visualization below shows that during the year 2019 in the month of February, the subscribers were about 90.5% while the customers were about 9.5%."
   ]
  },
  {
   "cell_type": "code",
   "execution_count": 3,
   "metadata": {
    "slideshow": {
     "slide_type": "subslide"
    }
   },
   "outputs": [
    {
     "data": {
      "image/png": "[encoded data removed]",
      "text/plain": [
       "<matplotlib.figure.Figure at 0x7fb556629978>"
      ]
     },
     "metadata": {},
     "output_type": "display_data"
    }
   ],
   "source": [
    "# calculate the customer and subscriber\n",
    "customer = df_data_clean.query('user_type == \"Customer\"')['bike_id'].count()\n",
    "subscriber = df_data_clean.query('user_type == \"Subscriber\"')['bike_id'].count()\n",
    "customer_prop = customer / df_data_clean['bike_id'].count()\n",
    "subscriber_prop = subscriber / df_data_clean['bike_id'].count()\n",
    "\n",
    "#plot our data\n",
    "plt.figure(figsize = [8, 8])\n",
    "labels = ['Customer', 'Subscriber']\n",
    "sizes = [customer_prop, subscriber_prop]\n",
    "explode = (0, 0.1)\n",
    "colors = ['darkorange', 'steelblue']\n",
    "\n",
    "\n",
    "plt.pie(sizes, explode=explode, labels=labels,autopct='%1.1f%%',colors=colors, shadow=True, startangle=90)\n",
    "plt.axis('equal')\n",
    "plt.suptitle('Customers vs. Subscribers', y=1.05, fontsize=16, fontweight='bold');"
   ]
  },
  {
   "cell_type": "markdown",
   "metadata": {
    "slideshow": {
     "slide_type": "slide"
    }
   },
   "source": [
    "# 2. Ford GoBike Weekly usage\n",
    "From the result gotten, it was clear that in the month of February, Thursday was the most popular day of the week recording the high number of users, followed by Tuesday ."
   ]
  },
  {
   "cell_type": "code",
   "execution_count": 4,
   "metadata": {
    "slideshow": {
     "slide_type": "subslide"
    }
   },
   "outputs": [
    {
     "data": {
      "image/png": "[encoded data removed]",
      "text/plain": [
       "<matplotlib.figure.Figure at 0x7fb556625d30>"
      ]
     },
     "metadata": {
      "needs_background": "light"
     },
     "output_type": "display_data"
    }
   ],
   "source": [
    "df_weekday = ['Mon', 'Tue', 'Wed', 'Thu', 'Fri', 'Sat', 'Sun']\n",
    "plot= sns.factorplot(data=df_data_clean,x='start_day_of_week',kind='count',color=base_color,order=df_weekday)\n",
    "plot.set_axis_labels('Weekdays','Bike trips')\n",
    "plot.fig.suptitle('Usage by weekday',fontsize=16,fontweight='bold')\n",
    "plot.set_xticklabels(rotation=75);"
   ]
  },
  {
   "cell_type": "markdown",
   "metadata": {
    "slideshow": {
     "slide_type": "slide"
    }
   },
   "source": [
    "# 3.Ford GoBike duration in minutes\n",
    "The result gotten from data, clearly indicates that customers use the bikes for a longer period of time which is between 6-18 minutes while on the other hand the subscribers tend to use the bikes for a shorter period of time that is between 5-13 minutes."
   ]
  },
  {
   "cell_type": "code",
   "execution_count": 5,
   "metadata": {
    "slideshow": {
     "slide_type": "subslide"
    }
   },
   "outputs": [
    {
     "data": {
      "image/png": "[encoded data removed]",
      "text/plain": [
       "<matplotlib.figure.Figure at 0x7fb55976f0f0>"
      ]
     },
     "metadata": {
      "needs_background": "light"
     },
     "output_type": "display_data"
    }
   ],
   "source": [
    "plt.figure(figsize = [8, 5])\n",
    "base_color = sns.color_palette()[1]\n",
    "sns.boxplot(data = df_data_clean.query('duration_min < 30'), x = 'user_type', y = 'duration_min')\n",
    "plt.title('Customer vs. Subscribers Duration in Minutes', y=1.05, fontsize=14, fontweight='bold')\n",
    "plt.xlabel('User Type')\n",
    "plt.ylabel('Duration in min')\n",
    "plt.show()"
   ]
  },
  {
   "cell_type": "markdown",
   "metadata": {
    "slideshow": {
     "slide_type": "slide"
    }
   },
   "source": [
    "# Summary of the findings\n",
    "The Ford GoBike system has two type of members that is the customers and the subscribers.After doing some analysis, the following observations were gotten:\n",
    "     - 90.5% of the bike users were subscribers and they were mostly commuters while 9.5% of the users were customers who    mostly used it for leisure purposes.\n",
    "     - The bikes were mostly used on Thursdays which recorded a high number of users followed by Tuesdays.\n",
    "     - Customers recorded longer trips more than subscribers."
   ]
  },
  {
   "cell_type": "code",
   "execution_count": null,
   "metadata": {
    "slideshow": {
     "slide_type": "skip"
    }
   },
   "outputs": [
    {
     "name": "stdout",
     "output_type": "stream",
     "text": [
      "[NbConvertApp] Converting notebook Part_II_For_GoBikes.ipynb to slides\n",
      "[NbConvertApp] Writing 282986 bytes to Part_II_For_GoBikes.slides.html\n",
      "[NbConvertApp] Redirecting reveal.js requests to https://cdnjs.cloudflare.com/ajax/libs/reveal.js/3.5.0\n",
      "Serving your slides at http://127.0.0.1:8000/Part_II_For_GoBikes.slides.html\n",
      "Use Control-C to stop this server\n",
      "/usr/bin/xdg-open: 778: /usr/bin/xdg-open: x-www-browser: not found\n",
      "/usr/bin/xdg-open: 778: /usr/bin/xdg-open: firefox: not found\n",
      "/usr/bin/xdg-open: 778: /usr/bin/xdg-open: iceweasel: not found\n",
      "/usr/bin/xdg-open: 778: /usr/bin/xdg-open: seamonkey: not found\n",
      "/usr/bin/xdg-open: 778: /usr/bin/xdg-open: mozilla: not found\n",
      "/usr/bin/xdg-open: 778: /usr/bin/xdg-open: epiphany: not found\n",
      "/usr/bin/xdg-open: 778: /usr/bin/xdg-open: konqueror: not found\n",
      "/usr/bin/xdg-open: 778: /usr/bin/xdg-open: chromium-browser: not found\n",
      "/usr/bin/xdg-open: 778: /usr/bin/xdg-open: google-chrome: not found\n",
      "/usr/bin/xdg-open: 778: /usr/bin/xdg-open: www-browser: not found\n",
      "/usr/bin/xdg-open: 778: /usr/bin/xdg-open: links2: not found\n",
      "/usr/bin/xdg-open: 778: /usr/bin/xdg-open: elinks: not found\n",
      "/usr/bin/xdg-open: 778: /usr/bin/xdg-open: links: not found\n",
      "/usr/bin/xdg-open: 778: /usr/bin/xdg-open: lynx: not found\n",
      "/usr/bin/xdg-open: 778: /usr/bin/xdg-open: w3m: not found\n",
      "xdg-open: no method available for opening 'http://127.0.0.1:8000/Part_II_For_GoBikes.slides.html'\n"
     ]
    }
   ],
   "source": [
    "!jupyter nbconvert Part_II_For_GoBikes.ipynb --to slides --post serve --no-input --no-prompt"
   ]
  },
  {
   "cell_type": "code",
   "execution_count": null,
   "metadata": {
    "slideshow": {
     "slide_type": "skip"
    }
   },
   "outputs": [],
   "source": []
  }
 ],
 "metadata": {
  "celltoolbar": "Slideshow",
  "kernelspec": {
   "display_name": "Python 3",
   "language": "python",
   "name": "python3"
  },
  "language_info": {
   "codemirror_mode": {
    "name": "ipython",
    "version": 3
   },
   "file_extension": ".py",
   "mimetype": "text/x-python",
   "name": "python",
   "nbconvert_exporter": "python",
   "pygments_lexer": "ipython3",
   "version": "3.6.3"
  }
 },
 "nbformat": 4,
 "nbformat_minor": 2
}
