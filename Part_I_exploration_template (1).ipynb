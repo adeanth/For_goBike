{
 "cells": [
  {
   "cell_type": "markdown",
   "metadata": {},
   "source": [
    "# Ford GoBike 2019\n",
    "## by (Anthony Isaiah)\n",
    "\n",
    "## Introduction\n",
    "> Ford GoBike System Dataset includes information about individual rides made in a bike-sharing system covering the greater San Francisco Bay area in the month of February, 2019.This system was established in the year 2013. As of 2018 they had about 2600 bicycles in 262 sations across San Francisco, East Bay and San Jose.\n",
    "\n",
    "> The bicycles are in two categories; the classic dock model and the hybrid model that can be parked at a dock or used in a dockless manner. They are usually available 24 Hrs a day, 365 days a year. Customers may choose either a single ride or an annual membership. Single rides start at around 3 dollars per single trip and a day may cost up to 10 dollars. Memberships cost 25 dollars per month or 159 dollars per year.\n",
    "\n",
    "> This data set includes information about individual rides made in a bike-sharing system covering the greater San Francisco Bay area in the year 2019. The data set has been stored as a csv file, it has 16 features and 183412 entries.\n",
    "\n",
    "\n",
    "\n",
    "\n",
    "## Preliminary Wrangling\n",
    "\n",
    "> .The data aims to explore the Ford Gobike trip data of February 2019"
   ]
  },
  {
   "cell_type": "code",
   "execution_count": 1,
   "metadata": {},
   "outputs": [],
   "source": [
    "# import all packages and set plots to be embedded inline\n",
    "import numpy as np\n",
    "import pandas as pd\n",
    "import matplotlib.pyplot as plt\n",
    "import seaborn as sb\n",
    "\n",
    "%matplotlib inline"
   ]
  },
  {
   "cell_type": "markdown",
   "metadata": {},
   "source": [
    "# Loading the dataset\n"
   ]
  },
  {
   "cell_type": "code",
   "execution_count": 2,
   "metadata": {},
   "outputs": [
    {
     "data": {
      "text/html": [
       "<div>\n",
       "<style scoped>\n",
       "    .dataframe tbody tr th:only-of-type {\n",
       "        vertical-align: middle;\n",
       "    }\n",
       "\n",
       "    .dataframe tbody tr th {\n",
       "        vertical-align: top;\n",
       "    }\n",
       "\n",
       "    .dataframe thead th {\n",
       "        text-align: right;\n",
       "    }\n",
       "</style>\n",
       "<table border=\"1\" class=\"dataframe\">\n",
       "  <thead>\n",
       "    <tr style=\"text-align: right;\">\n",
       "      <th></th>\n",
       "      <th>duration_sec</th>\n",
       "      <th>start_time</th>\n",
       "      <th>end_time</th>\n",
       "      <th>start_station_id</th>\n",
       "      <th>start_station_name</th>\n",
       "      <th>start_station_latitude</th>\n",
       "      <th>start_station_longitude</th>\n",
       "      <th>end_station_id</th>\n",
       "      <th>end_station_name</th>\n",
       "      <th>end_station_latitude</th>\n",
       "      <th>end_station_longitude</th>\n",
       "      <th>bike_id</th>\n",
       "      <th>user_type</th>\n",
       "      <th>member_birth_year</th>\n",
       "      <th>member_gender</th>\n",
       "      <th>bike_share_for_all_trip</th>\n",
       "    </tr>\n",
       "  </thead>\n",
       "  <tbody>\n",
       "    <tr>\n",
       "      <th>0</th>\n",
       "      <td>52185</td>\n",
       "      <td>2019-02-28 17:32:10.1450</td>\n",
       "      <td>2019-03-01 08:01:55.9750</td>\n",
       "      <td>21.0</td>\n",
       "      <td>Montgomery St BART Station (Market St at 2nd St)</td>\n",
       "      <td>37.789625</td>\n",
       "      <td>-122.400811</td>\n",
       "      <td>13.0</td>\n",
       "      <td>Commercial St at Montgomery St</td>\n",
       "      <td>37.794231</td>\n",
       "      <td>-122.402923</td>\n",
       "      <td>4902</td>\n",
       "      <td>Customer</td>\n",
       "      <td>1984.0</td>\n",
       "      <td>Male</td>\n",
       "      <td>No</td>\n",
       "    </tr>\n",
       "    <tr>\n",
       "      <th>1</th>\n",
       "      <td>42521</td>\n",
       "      <td>2019-02-28 18:53:21.7890</td>\n",
       "      <td>2019-03-01 06:42:03.0560</td>\n",
       "      <td>23.0</td>\n",
       "      <td>The Embarcadero at Steuart St</td>\n",
       "      <td>37.791464</td>\n",
       "      <td>-122.391034</td>\n",
       "      <td>81.0</td>\n",
       "      <td>Berry St at 4th St</td>\n",
       "      <td>37.775880</td>\n",
       "      <td>-122.393170</td>\n",
       "      <td>2535</td>\n",
       "      <td>Customer</td>\n",
       "      <td>NaN</td>\n",
       "      <td>NaN</td>\n",
       "      <td>No</td>\n",
       "    </tr>\n",
       "    <tr>\n",
       "      <th>2</th>\n",
       "      <td>61854</td>\n",
       "      <td>2019-02-28 12:13:13.2180</td>\n",
       "      <td>2019-03-01 05:24:08.1460</td>\n",
       "      <td>86.0</td>\n",
       "      <td>Market St at Dolores St</td>\n",
       "      <td>37.769305</td>\n",
       "      <td>-122.426826</td>\n",
       "      <td>3.0</td>\n",
       "      <td>Powell St BART Station (Market St at 4th St)</td>\n",
       "      <td>37.786375</td>\n",
       "      <td>-122.404904</td>\n",
       "      <td>5905</td>\n",
       "      <td>Customer</td>\n",
       "      <td>1972.0</td>\n",
       "      <td>Male</td>\n",
       "      <td>No</td>\n",
       "    </tr>\n",
       "    <tr>\n",
       "      <th>3</th>\n",
       "      <td>36490</td>\n",
       "      <td>2019-02-28 17:54:26.0100</td>\n",
       "      <td>2019-03-01 04:02:36.8420</td>\n",
       "      <td>375.0</td>\n",
       "      <td>Grove St at Masonic Ave</td>\n",
       "      <td>37.774836</td>\n",
       "      <td>-122.446546</td>\n",
       "      <td>70.0</td>\n",
       "      <td>Central Ave at Fell St</td>\n",
       "      <td>37.773311</td>\n",
       "      <td>-122.444293</td>\n",
       "      <td>6638</td>\n",
       "      <td>Subscriber</td>\n",
       "      <td>1989.0</td>\n",
       "      <td>Other</td>\n",
       "      <td>No</td>\n",
       "    </tr>\n",
       "    <tr>\n",
       "      <th>4</th>\n",
       "      <td>1585</td>\n",
       "      <td>2019-02-28 23:54:18.5490</td>\n",
       "      <td>2019-03-01 00:20:44.0740</td>\n",
       "      <td>7.0</td>\n",
       "      <td>Frank H Ogawa Plaza</td>\n",
       "      <td>37.804562</td>\n",
       "      <td>-122.271738</td>\n",
       "      <td>222.0</td>\n",
       "      <td>10th Ave at E 15th St</td>\n",
       "      <td>37.792714</td>\n",
       "      <td>-122.248780</td>\n",
       "      <td>4898</td>\n",
       "      <td>Subscriber</td>\n",
       "      <td>1974.0</td>\n",
       "      <td>Male</td>\n",
       "      <td>Yes</td>\n",
       "    </tr>\n",
       "  </tbody>\n",
       "</table>\n",
       "</div>"
      ],
      "text/plain": [
       "   duration_sec                start_time                  end_time  \\\n",
       "0         52185  2019-02-28 17:32:10.1450  2019-03-01 08:01:55.9750   \n",
       "1         42521  2019-02-28 18:53:21.7890  2019-03-01 06:42:03.0560   \n",
       "2         61854  2019-02-28 12:13:13.2180  2019-03-01 05:24:08.1460   \n",
       "3         36490  2019-02-28 17:54:26.0100  2019-03-01 04:02:36.8420   \n",
       "4          1585  2019-02-28 23:54:18.5490  2019-03-01 00:20:44.0740   \n",
       "\n",
       "   start_station_id                                start_station_name  \\\n",
       "0              21.0  Montgomery St BART Station (Market St at 2nd St)   \n",
       "1              23.0                     The Embarcadero at Steuart St   \n",
       "2              86.0                           Market St at Dolores St   \n",
       "3             375.0                           Grove St at Masonic Ave   \n",
       "4               7.0                               Frank H Ogawa Plaza   \n",
       "\n",
       "   start_station_latitude  start_station_longitude  end_station_id  \\\n",
       "0               37.789625              -122.400811            13.0   \n",
       "1               37.791464              -122.391034            81.0   \n",
       "2               37.769305              -122.426826             3.0   \n",
       "3               37.774836              -122.446546            70.0   \n",
       "4               37.804562              -122.271738           222.0   \n",
       "\n",
       "                               end_station_name  end_station_latitude  \\\n",
       "0                Commercial St at Montgomery St             37.794231   \n",
       "1                            Berry St at 4th St             37.775880   \n",
       "2  Powell St BART Station (Market St at 4th St)             37.786375   \n",
       "3                        Central Ave at Fell St             37.773311   \n",
       "4                         10th Ave at E 15th St             37.792714   \n",
       "\n",
       "   end_station_longitude  bike_id   user_type  member_birth_year  \\\n",
       "0            -122.402923     4902    Customer             1984.0   \n",
       "1            -122.393170     2535    Customer                NaN   \n",
       "2            -122.404904     5905    Customer             1972.0   \n",
       "3            -122.444293     6638  Subscriber             1989.0   \n",
       "4            -122.248780     4898  Subscriber             1974.0   \n",
       "\n",
       "  member_gender bike_share_for_all_trip  \n",
       "0          Male                      No  \n",
       "1           NaN                      No  \n",
       "2          Male                      No  \n",
       "3         Other                      No  \n",
       "4          Male                     Yes  "
      ]
     },
     "execution_count": 2,
     "metadata": {},
     "output_type": "execute_result"
    }
   ],
   "source": [
    "# Loading the dataset and Viewing it\n",
    "df_data = pd.read_csv('201902-fordgobike-tripdata.csv')\n",
    "df_data.head()"
   ]
  },
  {
   "cell_type": "markdown",
   "metadata": {},
   "source": [
    "#  Assessing the data"
   ]
  },
  {
   "cell_type": "code",
   "execution_count": 3,
   "metadata": {},
   "outputs": [
    {
     "data": {
      "text/html": [
       "<div>\n",
       "<style scoped>\n",
       "    .dataframe tbody tr th:only-of-type {\n",
       "        vertical-align: middle;\n",
       "    }\n",
       "\n",
       "    .dataframe tbody tr th {\n",
       "        vertical-align: top;\n",
       "    }\n",
       "\n",
       "    .dataframe thead th {\n",
       "        text-align: right;\n",
       "    }\n",
       "</style>\n",
       "<table border=\"1\" class=\"dataframe\">\n",
       "  <thead>\n",
       "    <tr style=\"text-align: right;\">\n",
       "      <th></th>\n",
       "      <th>duration_sec</th>\n",
       "      <th>start_time</th>\n",
       "      <th>end_time</th>\n",
       "      <th>start_station_id</th>\n",
       "      <th>start_station_name</th>\n",
       "      <th>start_station_latitude</th>\n",
       "      <th>start_station_longitude</th>\n",
       "      <th>end_station_id</th>\n",
       "      <th>end_station_name</th>\n",
       "      <th>end_station_latitude</th>\n",
       "      <th>end_station_longitude</th>\n",
       "      <th>bike_id</th>\n",
       "      <th>user_type</th>\n",
       "      <th>member_birth_year</th>\n",
       "      <th>member_gender</th>\n",
       "      <th>bike_share_for_all_trip</th>\n",
       "    </tr>\n",
       "  </thead>\n",
       "  <tbody>\n",
       "    <tr>\n",
       "      <th>31099</th>\n",
       "      <td>1081</td>\n",
       "      <td>2019-02-24 17:24:59.0350</td>\n",
       "      <td>2019-02-24 17:43:00.8310</td>\n",
       "      <td>96.0</td>\n",
       "      <td>Dolores St at 15th St</td>\n",
       "      <td>37.766210</td>\n",
       "      <td>-122.426614</td>\n",
       "      <td>72.0</td>\n",
       "      <td>Page St at Scott St</td>\n",
       "      <td>37.772406</td>\n",
       "      <td>-122.435650</td>\n",
       "      <td>5525</td>\n",
       "      <td>Subscriber</td>\n",
       "      <td>1964.0</td>\n",
       "      <td>Male</td>\n",
       "      <td>No</td>\n",
       "    </tr>\n",
       "    <tr>\n",
       "      <th>40705</th>\n",
       "      <td>611</td>\n",
       "      <td>2019-02-22 19:49:49.4250</td>\n",
       "      <td>2019-02-22 20:00:01.0260</td>\n",
       "      <td>109.0</td>\n",
       "      <td>17th St at Valencia St</td>\n",
       "      <td>37.763316</td>\n",
       "      <td>-122.421904</td>\n",
       "      <td>61.0</td>\n",
       "      <td>Howard St at 8th St</td>\n",
       "      <td>37.776513</td>\n",
       "      <td>-122.411306</td>\n",
       "      <td>5851</td>\n",
       "      <td>Subscriber</td>\n",
       "      <td>1991.0</td>\n",
       "      <td>Male</td>\n",
       "      <td>No</td>\n",
       "    </tr>\n",
       "    <tr>\n",
       "      <th>88052</th>\n",
       "      <td>381</td>\n",
       "      <td>2019-02-16 20:25:28.1000</td>\n",
       "      <td>2019-02-16 20:31:49.3190</td>\n",
       "      <td>285.0</td>\n",
       "      <td>Webster St at O'Farrell St</td>\n",
       "      <td>37.783521</td>\n",
       "      <td>-122.431158</td>\n",
       "      <td>73.0</td>\n",
       "      <td>Pierce St at Haight St</td>\n",
       "      <td>37.771793</td>\n",
       "      <td>-122.433708</td>\n",
       "      <td>5318</td>\n",
       "      <td>Subscriber</td>\n",
       "      <td>1991.0</td>\n",
       "      <td>Female</td>\n",
       "      <td>No</td>\n",
       "    </tr>\n",
       "    <tr>\n",
       "      <th>163544</th>\n",
       "      <td>465</td>\n",
       "      <td>2019-02-05 09:12:35.9300</td>\n",
       "      <td>2019-02-05 09:20:21.1030</td>\n",
       "      <td>27.0</td>\n",
       "      <td>Beale St at Harrison St</td>\n",
       "      <td>37.788059</td>\n",
       "      <td>-122.391865</td>\n",
       "      <td>81.0</td>\n",
       "      <td>Berry St at 4th St</td>\n",
       "      <td>37.775880</td>\n",
       "      <td>-122.393170</td>\n",
       "      <td>1985</td>\n",
       "      <td>Subscriber</td>\n",
       "      <td>1985.0</td>\n",
       "      <td>Male</td>\n",
       "      <td>No</td>\n",
       "    </tr>\n",
       "    <tr>\n",
       "      <th>49874</th>\n",
       "      <td>646</td>\n",
       "      <td>2019-02-21 20:11:59.7450</td>\n",
       "      <td>2019-02-21 20:22:46.1940</td>\n",
       "      <td>252.0</td>\n",
       "      <td>Channing Way at Shattuck Ave</td>\n",
       "      <td>37.865847</td>\n",
       "      <td>-122.267443</td>\n",
       "      <td>273.0</td>\n",
       "      <td>Fulton St at Ashby Ave</td>\n",
       "      <td>37.855574</td>\n",
       "      <td>-122.263565</td>\n",
       "      <td>5639</td>\n",
       "      <td>Subscriber</td>\n",
       "      <td>1995.0</td>\n",
       "      <td>Male</td>\n",
       "      <td>No</td>\n",
       "    </tr>\n",
       "    <tr>\n",
       "      <th>89730</th>\n",
       "      <td>2372</td>\n",
       "      <td>2019-02-16 14:15:56.9750</td>\n",
       "      <td>2019-02-16 14:55:29.5300</td>\n",
       "      <td>33.0</td>\n",
       "      <td>Golden Gate Ave at Hyde St</td>\n",
       "      <td>37.781650</td>\n",
       "      <td>-122.415408</td>\n",
       "      <td>99.0</td>\n",
       "      <td>Folsom St at 15th St</td>\n",
       "      <td>37.767037</td>\n",
       "      <td>-122.415443</td>\n",
       "      <td>6254</td>\n",
       "      <td>Subscriber</td>\n",
       "      <td>1989.0</td>\n",
       "      <td>Male</td>\n",
       "      <td>No</td>\n",
       "    </tr>\n",
       "    <tr>\n",
       "      <th>122305</th>\n",
       "      <td>878</td>\n",
       "      <td>2019-02-11 12:10:16.6140</td>\n",
       "      <td>2019-02-11 12:24:54.9720</td>\n",
       "      <td>13.0</td>\n",
       "      <td>Commercial St at Montgomery St</td>\n",
       "      <td>37.794231</td>\n",
       "      <td>-122.402923</td>\n",
       "      <td>36.0</td>\n",
       "      <td>Folsom St at 3rd St</td>\n",
       "      <td>37.783830</td>\n",
       "      <td>-122.398870</td>\n",
       "      <td>4748</td>\n",
       "      <td>Subscriber</td>\n",
       "      <td>1974.0</td>\n",
       "      <td>Female</td>\n",
       "      <td>No</td>\n",
       "    </tr>\n",
       "    <tr>\n",
       "      <th>21913</th>\n",
       "      <td>613</td>\n",
       "      <td>2019-02-26 08:41:52.8730</td>\n",
       "      <td>2019-02-26 08:52:06.2110</td>\n",
       "      <td>39.0</td>\n",
       "      <td>Scott St at Golden Gate Ave</td>\n",
       "      <td>37.778999</td>\n",
       "      <td>-122.436861</td>\n",
       "      <td>44.0</td>\n",
       "      <td>Civic Center/UN Plaza BART Station (Market St ...</td>\n",
       "      <td>37.781074</td>\n",
       "      <td>-122.411738</td>\n",
       "      <td>6356</td>\n",
       "      <td>Subscriber</td>\n",
       "      <td>1994.0</td>\n",
       "      <td>Male</td>\n",
       "      <td>No</td>\n",
       "    </tr>\n",
       "    <tr>\n",
       "      <th>47265</th>\n",
       "      <td>385</td>\n",
       "      <td>2019-02-22 08:56:55.1970</td>\n",
       "      <td>2019-02-22 09:03:20.9110</td>\n",
       "      <td>67.0</td>\n",
       "      <td>San Francisco Caltrain Station 2  (Townsend St...</td>\n",
       "      <td>37.776639</td>\n",
       "      <td>-122.395526</td>\n",
       "      <td>102.0</td>\n",
       "      <td>Irwin St at 8th St</td>\n",
       "      <td>37.766883</td>\n",
       "      <td>-122.399579</td>\n",
       "      <td>6254</td>\n",
       "      <td>Subscriber</td>\n",
       "      <td>1971.0</td>\n",
       "      <td>Male</td>\n",
       "      <td>No</td>\n",
       "    </tr>\n",
       "    <tr>\n",
       "      <th>54432</th>\n",
       "      <td>353</td>\n",
       "      <td>2019-02-21 12:54:18.7870</td>\n",
       "      <td>2019-02-21 13:00:11.7980</td>\n",
       "      <td>89.0</td>\n",
       "      <td>Division St at Potrero Ave</td>\n",
       "      <td>37.769218</td>\n",
       "      <td>-122.407646</td>\n",
       "      <td>99.0</td>\n",
       "      <td>Folsom St at 15th St</td>\n",
       "      <td>37.767037</td>\n",
       "      <td>-122.415443</td>\n",
       "      <td>6091</td>\n",
       "      <td>Subscriber</td>\n",
       "      <td>1992.0</td>\n",
       "      <td>Male</td>\n",
       "      <td>No</td>\n",
       "    </tr>\n",
       "    <tr>\n",
       "      <th>29724</th>\n",
       "      <td>123</td>\n",
       "      <td>2019-02-25 06:49:51.1230</td>\n",
       "      <td>2019-02-25 06:51:54.6080</td>\n",
       "      <td>50.0</td>\n",
       "      <td>2nd St at Townsend St</td>\n",
       "      <td>37.780526</td>\n",
       "      <td>-122.390288</td>\n",
       "      <td>30.0</td>\n",
       "      <td>San Francisco Caltrain (Townsend St at 4th St)</td>\n",
       "      <td>37.776598</td>\n",
       "      <td>-122.395282</td>\n",
       "      <td>5371</td>\n",
       "      <td>Subscriber</td>\n",
       "      <td>1965.0</td>\n",
       "      <td>Male</td>\n",
       "      <td>No</td>\n",
       "    </tr>\n",
       "    <tr>\n",
       "      <th>27248</th>\n",
       "      <td>424</td>\n",
       "      <td>2019-02-25 09:56:31.0280</td>\n",
       "      <td>2019-02-25 10:03:35.3690</td>\n",
       "      <td>324.0</td>\n",
       "      <td>Union Square (Powell St at Post St)</td>\n",
       "      <td>37.788300</td>\n",
       "      <td>-122.408531</td>\n",
       "      <td>25.0</td>\n",
       "      <td>Howard St at 2nd St</td>\n",
       "      <td>37.787522</td>\n",
       "      <td>-122.397405</td>\n",
       "      <td>4458</td>\n",
       "      <td>Subscriber</td>\n",
       "      <td>1999.0</td>\n",
       "      <td>Male</td>\n",
       "      <td>No</td>\n",
       "    </tr>\n",
       "    <tr>\n",
       "      <th>74756</th>\n",
       "      <td>316</td>\n",
       "      <td>2019-02-19 09:50:33.5020</td>\n",
       "      <td>2019-02-19 09:55:49.6140</td>\n",
       "      <td>178.0</td>\n",
       "      <td>Broadway at 30th St</td>\n",
       "      <td>37.819381</td>\n",
       "      <td>-122.261928</td>\n",
       "      <td>182.0</td>\n",
       "      <td>19th Street BART Station</td>\n",
       "      <td>37.809013</td>\n",
       "      <td>-122.268247</td>\n",
       "      <td>1098</td>\n",
       "      <td>Subscriber</td>\n",
       "      <td>1981.0</td>\n",
       "      <td>Female</td>\n",
       "      <td>No</td>\n",
       "    </tr>\n",
       "    <tr>\n",
       "      <th>325</th>\n",
       "      <td>573</td>\n",
       "      <td>2019-02-28 21:46:56.4260</td>\n",
       "      <td>2019-02-28 21:56:30.2060</td>\n",
       "      <td>96.0</td>\n",
       "      <td>Dolores St at 15th St</td>\n",
       "      <td>37.766210</td>\n",
       "      <td>-122.426614</td>\n",
       "      <td>345.0</td>\n",
       "      <td>Hubbell St at 16th St</td>\n",
       "      <td>37.766483</td>\n",
       "      <td>-122.398279</td>\n",
       "      <td>6132</td>\n",
       "      <td>Subscriber</td>\n",
       "      <td>1983.0</td>\n",
       "      <td>Male</td>\n",
       "      <td>No</td>\n",
       "    </tr>\n",
       "    <tr>\n",
       "      <th>103085</th>\n",
       "      <td>897</td>\n",
       "      <td>2019-02-14 14:37:43.2760</td>\n",
       "      <td>2019-02-14 14:52:40.7140</td>\n",
       "      <td>371.0</td>\n",
       "      <td>Lombard St at Columbus Ave</td>\n",
       "      <td>37.802746</td>\n",
       "      <td>-122.413579</td>\n",
       "      <td>50.0</td>\n",
       "      <td>2nd St at Townsend St</td>\n",
       "      <td>37.780526</td>\n",
       "      <td>-122.390288</td>\n",
       "      <td>4722</td>\n",
       "      <td>Subscriber</td>\n",
       "      <td>1999.0</td>\n",
       "      <td>Male</td>\n",
       "      <td>No</td>\n",
       "    </tr>\n",
       "    <tr>\n",
       "      <th>40679</th>\n",
       "      <td>615</td>\n",
       "      <td>2019-02-22 19:53:02.5540</td>\n",
       "      <td>2019-02-22 20:03:17.7640</td>\n",
       "      <td>34.0</td>\n",
       "      <td>Father Alfred E Boeddeker Park</td>\n",
       "      <td>37.783988</td>\n",
       "      <td>-122.412408</td>\n",
       "      <td>67.0</td>\n",
       "      <td>San Francisco Caltrain Station 2  (Townsend St...</td>\n",
       "      <td>37.776639</td>\n",
       "      <td>-122.395526</td>\n",
       "      <td>5840</td>\n",
       "      <td>Subscriber</td>\n",
       "      <td>1993.0</td>\n",
       "      <td>Male</td>\n",
       "      <td>No</td>\n",
       "    </tr>\n",
       "    <tr>\n",
       "      <th>55769</th>\n",
       "      <td>796</td>\n",
       "      <td>2019-02-21 09:33:24.4180</td>\n",
       "      <td>2019-02-21 09:46:40.7960</td>\n",
       "      <td>116.0</td>\n",
       "      <td>Mississippi St at 17th St</td>\n",
       "      <td>37.764802</td>\n",
       "      <td>-122.394771</td>\n",
       "      <td>21.0</td>\n",
       "      <td>Montgomery St BART Station (Market St at 2nd St)</td>\n",
       "      <td>37.789625</td>\n",
       "      <td>-122.400811</td>\n",
       "      <td>4850</td>\n",
       "      <td>Customer</td>\n",
       "      <td>1988.0</td>\n",
       "      <td>Male</td>\n",
       "      <td>No</td>\n",
       "    </tr>\n",
       "    <tr>\n",
       "      <th>130351</th>\n",
       "      <td>230</td>\n",
       "      <td>2019-02-09 17:57:16.5650</td>\n",
       "      <td>2019-02-09 18:01:07.2030</td>\n",
       "      <td>349.0</td>\n",
       "      <td>Howard St at Mary St</td>\n",
       "      <td>37.781010</td>\n",
       "      <td>-122.405666</td>\n",
       "      <td>47.0</td>\n",
       "      <td>4th St at Harrison St</td>\n",
       "      <td>37.780955</td>\n",
       "      <td>-122.399749</td>\n",
       "      <td>5468</td>\n",
       "      <td>Subscriber</td>\n",
       "      <td>1980.0</td>\n",
       "      <td>Male</td>\n",
       "      <td>No</td>\n",
       "    </tr>\n",
       "    <tr>\n",
       "      <th>2537</th>\n",
       "      <td>1728</td>\n",
       "      <td>2019-02-28 17:39:41.6310</td>\n",
       "      <td>2019-02-28 18:08:30.0150</td>\n",
       "      <td>181.0</td>\n",
       "      <td>Grand Ave at Webster St</td>\n",
       "      <td>37.811377</td>\n",
       "      <td>-122.265192</td>\n",
       "      <td>258.0</td>\n",
       "      <td>University Ave at Oxford St</td>\n",
       "      <td>37.872355</td>\n",
       "      <td>-122.266447</td>\n",
       "      <td>6603</td>\n",
       "      <td>Subscriber</td>\n",
       "      <td>1990.0</td>\n",
       "      <td>Other</td>\n",
       "      <td>No</td>\n",
       "    </tr>\n",
       "    <tr>\n",
       "      <th>100895</th>\n",
       "      <td>2483</td>\n",
       "      <td>2019-02-14 17:25:25.1910</td>\n",
       "      <td>2019-02-14 18:06:49.1280</td>\n",
       "      <td>43.0</td>\n",
       "      <td>San Francisco Public Library (Grove St at Hyde...</td>\n",
       "      <td>37.778768</td>\n",
       "      <td>-122.415929</td>\n",
       "      <td>67.0</td>\n",
       "      <td>San Francisco Caltrain Station 2  (Townsend St...</td>\n",
       "      <td>37.776639</td>\n",
       "      <td>-122.395526</td>\n",
       "      <td>5517</td>\n",
       "      <td>Subscriber</td>\n",
       "      <td>1991.0</td>\n",
       "      <td>Male</td>\n",
       "      <td>No</td>\n",
       "    </tr>\n",
       "    <tr>\n",
       "      <th>164182</th>\n",
       "      <td>1499</td>\n",
       "      <td>2019-02-05 08:22:01.5970</td>\n",
       "      <td>2019-02-05 08:47:01.2620</td>\n",
       "      <td>130.0</td>\n",
       "      <td>22nd St Caltrain Station</td>\n",
       "      <td>37.757288</td>\n",
       "      <td>-122.392051</td>\n",
       "      <td>13.0</td>\n",
       "      <td>Commercial St at Montgomery St</td>\n",
       "      <td>37.794231</td>\n",
       "      <td>-122.402923</td>\n",
       "      <td>5097</td>\n",
       "      <td>Customer</td>\n",
       "      <td>1984.0</td>\n",
       "      <td>Male</td>\n",
       "      <td>No</td>\n",
       "    </tr>\n",
       "    <tr>\n",
       "      <th>141561</th>\n",
       "      <td>402</td>\n",
       "      <td>2019-02-07 17:54:39.0880</td>\n",
       "      <td>2019-02-07 18:01:21.4930</td>\n",
       "      <td>58.0</td>\n",
       "      <td>Market St at 10th St</td>\n",
       "      <td>37.776619</td>\n",
       "      <td>-122.417385</td>\n",
       "      <td>86.0</td>\n",
       "      <td>Market St at Dolores St</td>\n",
       "      <td>37.769305</td>\n",
       "      <td>-122.426826</td>\n",
       "      <td>1469</td>\n",
       "      <td>Subscriber</td>\n",
       "      <td>1991.0</td>\n",
       "      <td>Male</td>\n",
       "      <td>No</td>\n",
       "    </tr>\n",
       "    <tr>\n",
       "      <th>167732</th>\n",
       "      <td>145</td>\n",
       "      <td>2019-02-04 17:00:19.8630</td>\n",
       "      <td>2019-02-04 17:02:45.4700</td>\n",
       "      <td>241.0</td>\n",
       "      <td>Ashby BART Station</td>\n",
       "      <td>37.852477</td>\n",
       "      <td>-122.270213</td>\n",
       "      <td>385.0</td>\n",
       "      <td>Woolsey St at Sacramento St</td>\n",
       "      <td>37.850578</td>\n",
       "      <td>-122.278175</td>\n",
       "      <td>5178</td>\n",
       "      <td>Subscriber</td>\n",
       "      <td>1968.0</td>\n",
       "      <td>Male</td>\n",
       "      <td>No</td>\n",
       "    </tr>\n",
       "    <tr>\n",
       "      <th>67315</th>\n",
       "      <td>183</td>\n",
       "      <td>2019-02-20 08:07:35.2460</td>\n",
       "      <td>2019-02-20 08:10:38.3520</td>\n",
       "      <td>122.0</td>\n",
       "      <td>19th St at Mission St</td>\n",
       "      <td>37.760299</td>\n",
       "      <td>-122.418892</td>\n",
       "      <td>99.0</td>\n",
       "      <td>Folsom St at 15th St</td>\n",
       "      <td>37.767037</td>\n",
       "      <td>-122.415443</td>\n",
       "      <td>4826</td>\n",
       "      <td>Subscriber</td>\n",
       "      <td>1982.0</td>\n",
       "      <td>Male</td>\n",
       "      <td>No</td>\n",
       "    </tr>\n",
       "    <tr>\n",
       "      <th>37635</th>\n",
       "      <td>184</td>\n",
       "      <td>2019-02-23 13:49:12.7530</td>\n",
       "      <td>2019-02-23 13:52:17.5580</td>\n",
       "      <td>129.0</td>\n",
       "      <td>Harrison St at 20th St</td>\n",
       "      <td>37.758862</td>\n",
       "      <td>-122.412544</td>\n",
       "      <td>99.0</td>\n",
       "      <td>Folsom St at 15th St</td>\n",
       "      <td>37.767037</td>\n",
       "      <td>-122.415443</td>\n",
       "      <td>6475</td>\n",
       "      <td>Subscriber</td>\n",
       "      <td>1979.0</td>\n",
       "      <td>Male</td>\n",
       "      <td>No</td>\n",
       "    </tr>\n",
       "    <tr>\n",
       "      <th>161697</th>\n",
       "      <td>670</td>\n",
       "      <td>2019-02-05 13:58:22.8910</td>\n",
       "      <td>2019-02-05 14:09:33.2010</td>\n",
       "      <td>20.0</td>\n",
       "      <td>Mechanics Monument Plaza (Market St at Bush St)</td>\n",
       "      <td>37.791300</td>\n",
       "      <td>-122.399051</td>\n",
       "      <td>81.0</td>\n",
       "      <td>Berry St at 4th St</td>\n",
       "      <td>37.775880</td>\n",
       "      <td>-122.393170</td>\n",
       "      <td>5173</td>\n",
       "      <td>Subscriber</td>\n",
       "      <td>1993.0</td>\n",
       "      <td>Female</td>\n",
       "      <td>No</td>\n",
       "    </tr>\n",
       "    <tr>\n",
       "      <th>4611</th>\n",
       "      <td>461</td>\n",
       "      <td>2019-02-28 15:27:38.2060</td>\n",
       "      <td>2019-02-28 15:35:19.6980</td>\n",
       "      <td>324.0</td>\n",
       "      <td>Union Square (Powell St at Post St)</td>\n",
       "      <td>37.788300</td>\n",
       "      <td>-122.408531</td>\n",
       "      <td>9.0</td>\n",
       "      <td>Broadway at Battery St</td>\n",
       "      <td>37.798572</td>\n",
       "      <td>-122.400869</td>\n",
       "      <td>5271</td>\n",
       "      <td>Subscriber</td>\n",
       "      <td>1973.0</td>\n",
       "      <td>Male</td>\n",
       "      <td>No</td>\n",
       "    </tr>\n",
       "    <tr>\n",
       "      <th>48556</th>\n",
       "      <td>302</td>\n",
       "      <td>2019-02-22 07:40:48.0930</td>\n",
       "      <td>2019-02-22 07:45:50.9850</td>\n",
       "      <td>61.0</td>\n",
       "      <td>Howard St at 8th St</td>\n",
       "      <td>37.776513</td>\n",
       "      <td>-122.411306</td>\n",
       "      <td>284.0</td>\n",
       "      <td>Yerba Buena Center for the Arts (Howard St at ...</td>\n",
       "      <td>37.784872</td>\n",
       "      <td>-122.400876</td>\n",
       "      <td>6514</td>\n",
       "      <td>Subscriber</td>\n",
       "      <td>1968.0</td>\n",
       "      <td>Male</td>\n",
       "      <td>No</td>\n",
       "    </tr>\n",
       "    <tr>\n",
       "      <th>7202</th>\n",
       "      <td>243</td>\n",
       "      <td>2019-02-28 09:20:36.0600</td>\n",
       "      <td>2019-02-28 09:24:39.9560</td>\n",
       "      <td>121.0</td>\n",
       "      <td>Mission Playground</td>\n",
       "      <td>37.759210</td>\n",
       "      <td>-122.421339</td>\n",
       "      <td>110.0</td>\n",
       "      <td>17th &amp; Folsom Street Park (17th St at Folsom St)</td>\n",
       "      <td>37.763708</td>\n",
       "      <td>-122.415204</td>\n",
       "      <td>1282</td>\n",
       "      <td>Subscriber</td>\n",
       "      <td>1971.0</td>\n",
       "      <td>Male</td>\n",
       "      <td>No</td>\n",
       "    </tr>\n",
       "    <tr>\n",
       "      <th>140738</th>\n",
       "      <td>1198</td>\n",
       "      <td>2019-02-07 18:30:03.1010</td>\n",
       "      <td>2019-02-07 18:50:01.4980</td>\n",
       "      <td>114.0</td>\n",
       "      <td>Rhode Island St at 17th St</td>\n",
       "      <td>37.764478</td>\n",
       "      <td>-122.402570</td>\n",
       "      <td>52.0</td>\n",
       "      <td>McAllister St at Baker St</td>\n",
       "      <td>37.777416</td>\n",
       "      <td>-122.441838</td>\n",
       "      <td>5392</td>\n",
       "      <td>Subscriber</td>\n",
       "      <td>1993.0</td>\n",
       "      <td>Male</td>\n",
       "      <td>No</td>\n",
       "    </tr>\n",
       "  </tbody>\n",
       "</table>\n",
       "</div>"
      ],
      "text/plain": [
       "        duration_sec                start_time                  end_time  \\\n",
       "31099           1081  2019-02-24 17:24:59.0350  2019-02-24 17:43:00.8310   \n",
       "40705            611  2019-02-22 19:49:49.4250  2019-02-22 20:00:01.0260   \n",
       "88052            381  2019-02-16 20:25:28.1000  2019-02-16 20:31:49.3190   \n",
       "163544           465  2019-02-05 09:12:35.9300  2019-02-05 09:20:21.1030   \n",
       "49874            646  2019-02-21 20:11:59.7450  2019-02-21 20:22:46.1940   \n",
       "89730           2372  2019-02-16 14:15:56.9750  2019-02-16 14:55:29.5300   \n",
       "122305           878  2019-02-11 12:10:16.6140  2019-02-11 12:24:54.9720   \n",
       "21913            613  2019-02-26 08:41:52.8730  2019-02-26 08:52:06.2110   \n",
       "47265            385  2019-02-22 08:56:55.1970  2019-02-22 09:03:20.9110   \n",
       "54432            353  2019-02-21 12:54:18.7870  2019-02-21 13:00:11.7980   \n",
       "29724            123  2019-02-25 06:49:51.1230  2019-02-25 06:51:54.6080   \n",
       "27248            424  2019-02-25 09:56:31.0280  2019-02-25 10:03:35.3690   \n",
       "74756            316  2019-02-19 09:50:33.5020  2019-02-19 09:55:49.6140   \n",
       "325              573  2019-02-28 21:46:56.4260  2019-02-28 21:56:30.2060   \n",
       "103085           897  2019-02-14 14:37:43.2760  2019-02-14 14:52:40.7140   \n",
       "40679            615  2019-02-22 19:53:02.5540  2019-02-22 20:03:17.7640   \n",
       "55769            796  2019-02-21 09:33:24.4180  2019-02-21 09:46:40.7960   \n",
       "130351           230  2019-02-09 17:57:16.5650  2019-02-09 18:01:07.2030   \n",
       "2537            1728  2019-02-28 17:39:41.6310  2019-02-28 18:08:30.0150   \n",
       "100895          2483  2019-02-14 17:25:25.1910  2019-02-14 18:06:49.1280   \n",
       "164182          1499  2019-02-05 08:22:01.5970  2019-02-05 08:47:01.2620   \n",
       "141561           402  2019-02-07 17:54:39.0880  2019-02-07 18:01:21.4930   \n",
       "167732           145  2019-02-04 17:00:19.8630  2019-02-04 17:02:45.4700   \n",
       "67315            183  2019-02-20 08:07:35.2460  2019-02-20 08:10:38.3520   \n",
       "37635            184  2019-02-23 13:49:12.7530  2019-02-23 13:52:17.5580   \n",
       "161697           670  2019-02-05 13:58:22.8910  2019-02-05 14:09:33.2010   \n",
       "4611             461  2019-02-28 15:27:38.2060  2019-02-28 15:35:19.6980   \n",
       "48556            302  2019-02-22 07:40:48.0930  2019-02-22 07:45:50.9850   \n",
       "7202             243  2019-02-28 09:20:36.0600  2019-02-28 09:24:39.9560   \n",
       "140738          1198  2019-02-07 18:30:03.1010  2019-02-07 18:50:01.4980   \n",
       "\n",
       "        start_station_id                                 start_station_name  \\\n",
       "31099               96.0                              Dolores St at 15th St   \n",
       "40705              109.0                             17th St at Valencia St   \n",
       "88052              285.0                         Webster St at O'Farrell St   \n",
       "163544              27.0                            Beale St at Harrison St   \n",
       "49874              252.0                       Channing Way at Shattuck Ave   \n",
       "89730               33.0                         Golden Gate Ave at Hyde St   \n",
       "122305              13.0                     Commercial St at Montgomery St   \n",
       "21913               39.0                        Scott St at Golden Gate Ave   \n",
       "47265               67.0  San Francisco Caltrain Station 2  (Townsend St...   \n",
       "54432               89.0                         Division St at Potrero Ave   \n",
       "29724               50.0                              2nd St at Townsend St   \n",
       "27248              324.0                Union Square (Powell St at Post St)   \n",
       "74756              178.0                                Broadway at 30th St   \n",
       "325                 96.0                              Dolores St at 15th St   \n",
       "103085             371.0                         Lombard St at Columbus Ave   \n",
       "40679               34.0                     Father Alfred E Boeddeker Park   \n",
       "55769              116.0                          Mississippi St at 17th St   \n",
       "130351             349.0                               Howard St at Mary St   \n",
       "2537               181.0                            Grand Ave at Webster St   \n",
       "100895              43.0  San Francisco Public Library (Grove St at Hyde...   \n",
       "164182             130.0                           22nd St Caltrain Station   \n",
       "141561              58.0                               Market St at 10th St   \n",
       "167732             241.0                                 Ashby BART Station   \n",
       "67315              122.0                              19th St at Mission St   \n",
       "37635              129.0                             Harrison St at 20th St   \n",
       "161697              20.0    Mechanics Monument Plaza (Market St at Bush St)   \n",
       "4611               324.0                Union Square (Powell St at Post St)   \n",
       "48556               61.0                                Howard St at 8th St   \n",
       "7202               121.0                                 Mission Playground   \n",
       "140738             114.0                         Rhode Island St at 17th St   \n",
       "\n",
       "        start_station_latitude  start_station_longitude  end_station_id  \\\n",
       "31099                37.766210              -122.426614            72.0   \n",
       "40705                37.763316              -122.421904            61.0   \n",
       "88052                37.783521              -122.431158            73.0   \n",
       "163544               37.788059              -122.391865            81.0   \n",
       "49874                37.865847              -122.267443           273.0   \n",
       "89730                37.781650              -122.415408            99.0   \n",
       "122305               37.794231              -122.402923            36.0   \n",
       "21913                37.778999              -122.436861            44.0   \n",
       "47265                37.776639              -122.395526           102.0   \n",
       "54432                37.769218              -122.407646            99.0   \n",
       "29724                37.780526              -122.390288            30.0   \n",
       "27248                37.788300              -122.408531            25.0   \n",
       "74756                37.819381              -122.261928           182.0   \n",
       "325                  37.766210              -122.426614           345.0   \n",
       "103085               37.802746              -122.413579            50.0   \n",
       "40679                37.783988              -122.412408            67.0   \n",
       "55769                37.764802              -122.394771            21.0   \n",
       "130351               37.781010              -122.405666            47.0   \n",
       "2537                 37.811377              -122.265192           258.0   \n",
       "100895               37.778768              -122.415929            67.0   \n",
       "164182               37.757288              -122.392051            13.0   \n",
       "141561               37.776619              -122.417385            86.0   \n",
       "167732               37.852477              -122.270213           385.0   \n",
       "67315                37.760299              -122.418892            99.0   \n",
       "37635                37.758862              -122.412544            99.0   \n",
       "161697               37.791300              -122.399051            81.0   \n",
       "4611                 37.788300              -122.408531             9.0   \n",
       "48556                37.776513              -122.411306           284.0   \n",
       "7202                 37.759210              -122.421339           110.0   \n",
       "140738               37.764478              -122.402570            52.0   \n",
       "\n",
       "                                         end_station_name  \\\n",
       "31099                                 Page St at Scott St   \n",
       "40705                                 Howard St at 8th St   \n",
       "88052                              Pierce St at Haight St   \n",
       "163544                                 Berry St at 4th St   \n",
       "49874                              Fulton St at Ashby Ave   \n",
       "89730                                Folsom St at 15th St   \n",
       "122305                                Folsom St at 3rd St   \n",
       "21913   Civic Center/UN Plaza BART Station (Market St ...   \n",
       "47265                                  Irwin St at 8th St   \n",
       "54432                                Folsom St at 15th St   \n",
       "29724      San Francisco Caltrain (Townsend St at 4th St)   \n",
       "27248                                 Howard St at 2nd St   \n",
       "74756                            19th Street BART Station   \n",
       "325                                 Hubbell St at 16th St   \n",
       "103085                              2nd St at Townsend St   \n",
       "40679   San Francisco Caltrain Station 2  (Townsend St...   \n",
       "55769    Montgomery St BART Station (Market St at 2nd St)   \n",
       "130351                              4th St at Harrison St   \n",
       "2537                          University Ave at Oxford St   \n",
       "100895  San Francisco Caltrain Station 2  (Townsend St...   \n",
       "164182                     Commercial St at Montgomery St   \n",
       "141561                            Market St at Dolores St   \n",
       "167732                        Woolsey St at Sacramento St   \n",
       "67315                                Folsom St at 15th St   \n",
       "37635                                Folsom St at 15th St   \n",
       "161697                                 Berry St at 4th St   \n",
       "4611                               Broadway at Battery St   \n",
       "48556   Yerba Buena Center for the Arts (Howard St at ...   \n",
       "7202     17th & Folsom Street Park (17th St at Folsom St)   \n",
       "140738                          McAllister St at Baker St   \n",
       "\n",
       "        end_station_latitude  end_station_longitude  bike_id   user_type  \\\n",
       "31099              37.772406            -122.435650     5525  Subscriber   \n",
       "40705              37.776513            -122.411306     5851  Subscriber   \n",
       "88052              37.771793            -122.433708     5318  Subscriber   \n",
       "163544             37.775880            -122.393170     1985  Subscriber   \n",
       "49874              37.855574            -122.263565     5639  Subscriber   \n",
       "89730              37.767037            -122.415443     6254  Subscriber   \n",
       "122305             37.783830            -122.398870     4748  Subscriber   \n",
       "21913              37.781074            -122.411738     6356  Subscriber   \n",
       "47265              37.766883            -122.399579     6254  Subscriber   \n",
       "54432              37.767037            -122.415443     6091  Subscriber   \n",
       "29724              37.776598            -122.395282     5371  Subscriber   \n",
       "27248              37.787522            -122.397405     4458  Subscriber   \n",
       "74756              37.809013            -122.268247     1098  Subscriber   \n",
       "325                37.766483            -122.398279     6132  Subscriber   \n",
       "103085             37.780526            -122.390288     4722  Subscriber   \n",
       "40679              37.776639            -122.395526     5840  Subscriber   \n",
       "55769              37.789625            -122.400811     4850    Customer   \n",
       "130351             37.780955            -122.399749     5468  Subscriber   \n",
       "2537               37.872355            -122.266447     6603  Subscriber   \n",
       "100895             37.776639            -122.395526     5517  Subscriber   \n",
       "164182             37.794231            -122.402923     5097    Customer   \n",
       "141561             37.769305            -122.426826     1469  Subscriber   \n",
       "167732             37.850578            -122.278175     5178  Subscriber   \n",
       "67315              37.767037            -122.415443     4826  Subscriber   \n",
       "37635              37.767037            -122.415443     6475  Subscriber   \n",
       "161697             37.775880            -122.393170     5173  Subscriber   \n",
       "4611               37.798572            -122.400869     5271  Subscriber   \n",
       "48556              37.784872            -122.400876     6514  Subscriber   \n",
       "7202               37.763708            -122.415204     1282  Subscriber   \n",
       "140738             37.777416            -122.441838     5392  Subscriber   \n",
       "\n",
       "        member_birth_year member_gender bike_share_for_all_trip  \n",
       "31099              1964.0          Male                      No  \n",
       "40705              1991.0          Male                      No  \n",
       "88052              1991.0        Female                      No  \n",
       "163544             1985.0          Male                      No  \n",
       "49874              1995.0          Male                      No  \n",
       "89730              1989.0          Male                      No  \n",
       "122305             1974.0        Female                      No  \n",
       "21913              1994.0          Male                      No  \n",
       "47265              1971.0          Male                      No  \n",
       "54432              1992.0          Male                      No  \n",
       "29724              1965.0          Male                      No  \n",
       "27248              1999.0          Male                      No  \n",
       "74756              1981.0        Female                      No  \n",
       "325                1983.0          Male                      No  \n",
       "103085             1999.0          Male                      No  \n",
       "40679              1993.0          Male                      No  \n",
       "55769              1988.0          Male                      No  \n",
       "130351             1980.0          Male                      No  \n",
       "2537               1990.0         Other                      No  \n",
       "100895             1991.0          Male                      No  \n",
       "164182             1984.0          Male                      No  \n",
       "141561             1991.0          Male                      No  \n",
       "167732             1968.0          Male                      No  \n",
       "67315              1982.0          Male                      No  \n",
       "37635              1979.0          Male                      No  \n",
       "161697             1993.0        Female                      No  \n",
       "4611               1973.0          Male                      No  \n",
       "48556              1968.0          Male                      No  \n",
       "7202               1971.0          Male                      No  \n",
       "140738             1993.0          Male                      No  "
      ]
     },
     "execution_count": 3,
     "metadata": {},
     "output_type": "execute_result"
    }
   ],
   "source": [
    "#viewing a sample of 30\n",
    "df_data.sample(30)"
   ]
  },
  {
   "cell_type": "code",
   "execution_count": 4,
   "metadata": {},
   "outputs": [
    {
     "name": "stdout",
     "output_type": "stream",
     "text": [
      "<class 'pandas.core.frame.DataFrame'>\n",
      "RangeIndex: 183412 entries, 0 to 183411\n",
      "Data columns (total 16 columns):\n",
      "duration_sec               183412 non-null int64\n",
      "start_time                 183412 non-null object\n",
      "end_time                   183412 non-null object\n",
      "start_station_id           183215 non-null float64\n",
      "start_station_name         183215 non-null object\n",
      "start_station_latitude     183412 non-null float64\n",
      "start_station_longitude    183412 non-null float64\n",
      "end_station_id             183215 non-null float64\n",
      "end_station_name           183215 non-null object\n",
      "end_station_latitude       183412 non-null float64\n",
      "end_station_longitude      183412 non-null float64\n",
      "bike_id                    183412 non-null int64\n",
      "user_type                  183412 non-null object\n",
      "member_birth_year          175147 non-null float64\n",
      "member_gender              175147 non-null object\n",
      "bike_share_for_all_trip    183412 non-null object\n",
      "dtypes: float64(7), int64(2), object(7)\n",
      "memory usage: 22.4+ MB\n"
     ]
    }
   ],
   "source": [
    "# checking the info of the data\n",
    "df_data.info()"
   ]
  },
  {
   "cell_type": "code",
   "execution_count": 5,
   "metadata": {},
   "outputs": [
    {
     "data": {
      "text/plain": [
       "(183412, 16)"
      ]
     },
     "execution_count": 5,
     "metadata": {},
     "output_type": "execute_result"
    }
   ],
   "source": [
    "# look at its shape\n",
    "df_data.shape"
   ]
  },
  {
   "cell_type": "code",
   "execution_count": 6,
   "metadata": {},
   "outputs": [
    {
     "data": {
      "text/html": [
       "<div>\n",
       "<style scoped>\n",
       "    .dataframe tbody tr th:only-of-type {\n",
       "        vertical-align: middle;\n",
       "    }\n",
       "\n",
       "    .dataframe tbody tr th {\n",
       "        vertical-align: top;\n",
       "    }\n",
       "\n",
       "    .dataframe thead th {\n",
       "        text-align: right;\n",
       "    }\n",
       "</style>\n",
       "<table border=\"1\" class=\"dataframe\">\n",
       "  <thead>\n",
       "    <tr style=\"text-align: right;\">\n",
       "      <th></th>\n",
       "      <th>duration_sec</th>\n",
       "      <th>start_station_id</th>\n",
       "      <th>start_station_latitude</th>\n",
       "      <th>start_station_longitude</th>\n",
       "      <th>end_station_id</th>\n",
       "      <th>end_station_latitude</th>\n",
       "      <th>end_station_longitude</th>\n",
       "      <th>bike_id</th>\n",
       "      <th>member_birth_year</th>\n",
       "    </tr>\n",
       "  </thead>\n",
       "  <tbody>\n",
       "    <tr>\n",
       "      <th>count</th>\n",
       "      <td>183412.000000</td>\n",
       "      <td>183215.000000</td>\n",
       "      <td>183412.000000</td>\n",
       "      <td>183412.000000</td>\n",
       "      <td>183215.000000</td>\n",
       "      <td>183412.000000</td>\n",
       "      <td>183412.000000</td>\n",
       "      <td>183412.000000</td>\n",
       "      <td>175147.000000</td>\n",
       "    </tr>\n",
       "    <tr>\n",
       "      <th>mean</th>\n",
       "      <td>726.078435</td>\n",
       "      <td>138.590427</td>\n",
       "      <td>37.771223</td>\n",
       "      <td>-122.352664</td>\n",
       "      <td>136.249123</td>\n",
       "      <td>37.771427</td>\n",
       "      <td>-122.352250</td>\n",
       "      <td>4472.906375</td>\n",
       "      <td>1984.806437</td>\n",
       "    </tr>\n",
       "    <tr>\n",
       "      <th>std</th>\n",
       "      <td>1794.389780</td>\n",
       "      <td>111.778864</td>\n",
       "      <td>0.099581</td>\n",
       "      <td>0.117097</td>\n",
       "      <td>111.515131</td>\n",
       "      <td>0.099490</td>\n",
       "      <td>0.116673</td>\n",
       "      <td>1664.383394</td>\n",
       "      <td>10.116689</td>\n",
       "    </tr>\n",
       "    <tr>\n",
       "      <th>min</th>\n",
       "      <td>61.000000</td>\n",
       "      <td>3.000000</td>\n",
       "      <td>37.317298</td>\n",
       "      <td>-122.453704</td>\n",
       "      <td>3.000000</td>\n",
       "      <td>37.317298</td>\n",
       "      <td>-122.453704</td>\n",
       "      <td>11.000000</td>\n",
       "      <td>1878.000000</td>\n",
       "    </tr>\n",
       "    <tr>\n",
       "      <th>25%</th>\n",
       "      <td>325.000000</td>\n",
       "      <td>47.000000</td>\n",
       "      <td>37.770083</td>\n",
       "      <td>-122.412408</td>\n",
       "      <td>44.000000</td>\n",
       "      <td>37.770407</td>\n",
       "      <td>-122.411726</td>\n",
       "      <td>3777.000000</td>\n",
       "      <td>1980.000000</td>\n",
       "    </tr>\n",
       "    <tr>\n",
       "      <th>50%</th>\n",
       "      <td>514.000000</td>\n",
       "      <td>104.000000</td>\n",
       "      <td>37.780760</td>\n",
       "      <td>-122.398285</td>\n",
       "      <td>100.000000</td>\n",
       "      <td>37.781010</td>\n",
       "      <td>-122.398279</td>\n",
       "      <td>4958.000000</td>\n",
       "      <td>1987.000000</td>\n",
       "    </tr>\n",
       "    <tr>\n",
       "      <th>75%</th>\n",
       "      <td>796.000000</td>\n",
       "      <td>239.000000</td>\n",
       "      <td>37.797280</td>\n",
       "      <td>-122.286533</td>\n",
       "      <td>235.000000</td>\n",
       "      <td>37.797320</td>\n",
       "      <td>-122.288045</td>\n",
       "      <td>5502.000000</td>\n",
       "      <td>1992.000000</td>\n",
       "    </tr>\n",
       "    <tr>\n",
       "      <th>max</th>\n",
       "      <td>85444.000000</td>\n",
       "      <td>398.000000</td>\n",
       "      <td>37.880222</td>\n",
       "      <td>-121.874119</td>\n",
       "      <td>398.000000</td>\n",
       "      <td>37.880222</td>\n",
       "      <td>-121.874119</td>\n",
       "      <td>6645.000000</td>\n",
       "      <td>2001.000000</td>\n",
       "    </tr>\n",
       "  </tbody>\n",
       "</table>\n",
       "</div>"
      ],
      "text/plain": [
       "        duration_sec  start_station_id  start_station_latitude  \\\n",
       "count  183412.000000     183215.000000           183412.000000   \n",
       "mean      726.078435        138.590427               37.771223   \n",
       "std      1794.389780        111.778864                0.099581   \n",
       "min        61.000000          3.000000               37.317298   \n",
       "25%       325.000000         47.000000               37.770083   \n",
       "50%       514.000000        104.000000               37.780760   \n",
       "75%       796.000000        239.000000               37.797280   \n",
       "max     85444.000000        398.000000               37.880222   \n",
       "\n",
       "       start_station_longitude  end_station_id  end_station_latitude  \\\n",
       "count            183412.000000   183215.000000         183412.000000   \n",
       "mean               -122.352664      136.249123             37.771427   \n",
       "std                   0.117097      111.515131              0.099490   \n",
       "min                -122.453704        3.000000             37.317298   \n",
       "25%                -122.412408       44.000000             37.770407   \n",
       "50%                -122.398285      100.000000             37.781010   \n",
       "75%                -122.286533      235.000000             37.797320   \n",
       "max                -121.874119      398.000000             37.880222   \n",
       "\n",
       "       end_station_longitude        bike_id  member_birth_year  \n",
       "count          183412.000000  183412.000000      175147.000000  \n",
       "mean             -122.352250    4472.906375        1984.806437  \n",
       "std                 0.116673    1664.383394          10.116689  \n",
       "min              -122.453704      11.000000        1878.000000  \n",
       "25%              -122.411726    3777.000000        1980.000000  \n",
       "50%              -122.398279    4958.000000        1987.000000  \n",
       "75%              -122.288045    5502.000000        1992.000000  \n",
       "max              -121.874119    6645.000000        2001.000000  "
      ]
     },
     "execution_count": 6,
     "metadata": {},
     "output_type": "execute_result"
    }
   ],
   "source": [
    "# get some descriptives\n",
    "df_data.describe()"
   ]
  },
  {
   "cell_type": "code",
   "execution_count": 7,
   "metadata": {},
   "outputs": [
    {
     "data": {
      "text/plain": [
       "0"
      ]
     },
     "execution_count": 7,
     "metadata": {},
     "output_type": "execute_result"
    }
   ],
   "source": [
    "# cheking if there are duplicates\n",
    "df_data.duplicated().sum()"
   ]
  },
  {
   "cell_type": "markdown",
   "metadata": {},
   "source": [
    "# Quality Issues includes the following:"
   ]
  },
  {
   "cell_type": "raw",
   "metadata": {},
   "source": [
    "1. Incorrect Data_type for the following features:\n",
    "    i. start_time\n",
    "    ii. end_time \n",
    "    iii. station_start_id\n",
    "    iv. end_station_id\n",
    "    v. member_birth_year features.\n",
    "\n",
    "2.  The folowing features has Missing values:\n",
    "    i.  start_station_id\n",
    "    ii. start_station_name\n",
    "    iii. end_station_id\n",
    "    iv. end_station_name\n",
    "    v. member_birth_year \n",
    "    vi. member_gender.\n",
    "    \n",
    "3. Renaming a Long column name from 'bike_share_for_all_trip' to 'bike_share'\n",
    "\n",
    "4. further calculation of the ages of the users"
   ]
  },
  {
   "cell_type": "code",
   "execution_count": 8,
   "metadata": {},
   "outputs": [],
   "source": [
    "# create a copy of the dataset\n",
    "df_data_clean = df_data.copy()"
   ]
  },
  {
   "cell_type": "markdown",
   "metadata": {},
   "source": [
    "# Cleaning the data"
   ]
  },
  {
   "cell_type": "markdown",
   "metadata": {},
   "source": [
    "# Define"
   ]
  },
  {
   "cell_type": "markdown",
   "metadata": {},
   "source": [
    "# 1. Changing the datatype of the following Features\n",
    "    1.Changing the following features to Object \n",
    "       i.bike_id\n",
    "       ii.start_station_id\n",
    "       iii.end_station_id.\n",
    "    2.Changing the following features to timestamp format\n",
    "       i.start_time\n",
    "       ii.end_time.\n",
    "    3.Changing the following features to Category format\n",
    "       i.user_type\n",
    "       ii.gender\n",
    "       iii.bike_share_for_all_trip "
   ]
  },
  {
   "cell_type": "markdown",
   "metadata": {},
   "source": [
    "# Code"
   ]
  },
  {
   "cell_type": "code",
   "execution_count": 9,
   "metadata": {},
   "outputs": [],
   "source": [
    "# changing the format to datetime format\n",
    "df_data_clean.start_time = pd.to_datetime(df_data_clean.start_time) \n",
    "df_data_clean.end_time = pd.to_datetime(df_data_clean.end_time) \n",
    "\n",
    "# changing bike_id, start_station_id, end_station_id to object format.\n",
    "df_data_clean.bike_id = df_data_clean.bike_id.astype(str)\n",
    "df_data_clean.start_station_id = df_data_clean.start_station_id.astype(str)\n",
    "df_data_clean.end_station_id = df_data_clean.end_station_id.astype(str)\n",
    "\n",
    "# changing user_type,gender,bike_share_for_all_trip to category format\n",
    "df_data_clean.user_type = df_data_clean.user_type.astype('category')\n",
    "df_data_clean.member_gender = df_data_clean.member_gender.astype('category')\n",
    "df_data_clean.bike_share_for_all_trip = df_data_clean.bike_share_for_all_trip.astype('category')\n",
    "df_data_clean.end_station_name = df_data_clean.end_station_name.astype('object')\n",
    "df_data_clean.start_station_name = df_data_clean.start_station_name.astype('object')\n"
   ]
  },
  {
   "cell_type": "markdown",
   "metadata": {},
   "source": [
    "# Test"
   ]
  },
  {
   "cell_type": "code",
   "execution_count": 10,
   "metadata": {
    "scrolled": false
   },
   "outputs": [
    {
     "name": "stdout",
     "output_type": "stream",
     "text": [
      "<class 'pandas.core.frame.DataFrame'>\n",
      "RangeIndex: 183412 entries, 0 to 183411\n",
      "Data columns (total 16 columns):\n",
      "duration_sec               183412 non-null int64\n",
      "start_time                 183412 non-null datetime64[ns]\n",
      "end_time                   183412 non-null datetime64[ns]\n",
      "start_station_id           183412 non-null object\n",
      "start_station_name         183215 non-null object\n",
      "start_station_latitude     183412 non-null float64\n",
      "start_station_longitude    183412 non-null float64\n",
      "end_station_id             183412 non-null object\n",
      "end_station_name           183215 non-null object\n",
      "end_station_latitude       183412 non-null float64\n",
      "end_station_longitude      183412 non-null float64\n",
      "bike_id                    183412 non-null object\n",
      "user_type                  183412 non-null category\n",
      "member_birth_year          175147 non-null float64\n",
      "member_gender              175147 non-null category\n",
      "bike_share_for_all_trip    183412 non-null category\n",
      "dtypes: category(3), datetime64[ns](2), float64(5), int64(1), object(5)\n",
      "memory usage: 18.7+ MB\n"
     ]
    }
   ],
   "source": [
    "df_data_clean.info()"
   ]
  },
  {
   "cell_type": "markdown",
   "metadata": {},
   "source": [
    "# Define"
   ]
  },
  {
   "cell_type": "markdown",
   "metadata": {},
   "source": [
    "# 2. Filling in Nan values with zeros "
   ]
  },
  {
   "cell_type": "raw",
   "metadata": {},
   "source": [
    "Note: Since i have dropped 'start_station_id' and 'end_station_id' from the features to be used for the analysis,so i don't have to fill in the missing values again\n",
    "\n",
    "so therefore, The following features with missing data will be replace with zeros:\n",
    "   i.start_station_name\n",
    "   ii.end_station_name\n",
    "   iii.member_birth_year\n",
    "   iv.member_gender"
   ]
  },
  {
   "cell_type": "markdown",
   "metadata": {},
   "source": [
    "# Code"
   ]
  },
  {
   "cell_type": "code",
   "execution_count": 11,
   "metadata": {},
   "outputs": [],
   "source": [
    "# Replacing the missing data in 'start_station_name' with zeros\n",
    "df_data_clean['start_station_name'] = df_data_clean['start_station_name'].replace(np.nan, 0)\n",
    "\n",
    "# Replacing the missing data in 'end_station_name' with zeros\n",
    "df_data_clean['end_station_name'] = df_data_clean['end_station_name'].replace(np.nan, 0)\n",
    "\n",
    "# Replacing the missing data in 'member_birth_year' with zeros\n",
    "df_data_clean['member_birth_year'] = df_data_clean['member_birth_year'].replace(np.nan, 0)\n",
    "\n",
    "# Replacing the missing data in 'member_gender' with zeros\n",
    "df_data_clean['member_gender'] = df_data_clean['member_gender'].replace(np.nan, 0)"
   ]
  },
  {
   "cell_type": "markdown",
   "metadata": {},
   "source": [
    "# Test"
   ]
  },
  {
   "cell_type": "code",
   "execution_count": 12,
   "metadata": {},
   "outputs": [
    {
     "data": {
      "text/html": [
       "<div>\n",
       "<style scoped>\n",
       "    .dataframe tbody tr th:only-of-type {\n",
       "        vertical-align: middle;\n",
       "    }\n",
       "\n",
       "    .dataframe tbody tr th {\n",
       "        vertical-align: top;\n",
       "    }\n",
       "\n",
       "    .dataframe thead th {\n",
       "        text-align: right;\n",
       "    }\n",
       "</style>\n",
       "<table border=\"1\" class=\"dataframe\">\n",
       "  <thead>\n",
       "    <tr style=\"text-align: right;\">\n",
       "      <th></th>\n",
       "      <th>duration_sec</th>\n",
       "      <th>start_time</th>\n",
       "      <th>end_time</th>\n",
       "      <th>start_station_id</th>\n",
       "      <th>start_station_name</th>\n",
       "      <th>start_station_latitude</th>\n",
       "      <th>start_station_longitude</th>\n",
       "      <th>end_station_id</th>\n",
       "      <th>end_station_name</th>\n",
       "      <th>end_station_latitude</th>\n",
       "      <th>end_station_longitude</th>\n",
       "      <th>bike_id</th>\n",
       "      <th>user_type</th>\n",
       "      <th>member_birth_year</th>\n",
       "      <th>member_gender</th>\n",
       "      <th>bike_share_for_all_trip</th>\n",
       "    </tr>\n",
       "  </thead>\n",
       "  <tbody>\n",
       "    <tr>\n",
       "      <th>0</th>\n",
       "      <td>52185</td>\n",
       "      <td>2019-02-28 17:32:10.145</td>\n",
       "      <td>2019-03-01 08:01:55.975</td>\n",
       "      <td>21.0</td>\n",
       "      <td>Montgomery St BART Station (Market St at 2nd St)</td>\n",
       "      <td>37.789625</td>\n",
       "      <td>-122.400811</td>\n",
       "      <td>13.0</td>\n",
       "      <td>Commercial St at Montgomery St</td>\n",
       "      <td>37.794231</td>\n",
       "      <td>-122.402923</td>\n",
       "      <td>4902</td>\n",
       "      <td>Customer</td>\n",
       "      <td>1984.0</td>\n",
       "      <td>Male</td>\n",
       "      <td>No</td>\n",
       "    </tr>\n",
       "    <tr>\n",
       "      <th>1</th>\n",
       "      <td>42521</td>\n",
       "      <td>2019-02-28 18:53:21.789</td>\n",
       "      <td>2019-03-01 06:42:03.056</td>\n",
       "      <td>23.0</td>\n",
       "      <td>The Embarcadero at Steuart St</td>\n",
       "      <td>37.791464</td>\n",
       "      <td>-122.391034</td>\n",
       "      <td>81.0</td>\n",
       "      <td>Berry St at 4th St</td>\n",
       "      <td>37.775880</td>\n",
       "      <td>-122.393170</td>\n",
       "      <td>2535</td>\n",
       "      <td>Customer</td>\n",
       "      <td>0.0</td>\n",
       "      <td>0</td>\n",
       "      <td>No</td>\n",
       "    </tr>\n",
       "    <tr>\n",
       "      <th>2</th>\n",
       "      <td>61854</td>\n",
       "      <td>2019-02-28 12:13:13.218</td>\n",
       "      <td>2019-03-01 05:24:08.146</td>\n",
       "      <td>86.0</td>\n",
       "      <td>Market St at Dolores St</td>\n",
       "      <td>37.769305</td>\n",
       "      <td>-122.426826</td>\n",
       "      <td>3.0</td>\n",
       "      <td>Powell St BART Station (Market St at 4th St)</td>\n",
       "      <td>37.786375</td>\n",
       "      <td>-122.404904</td>\n",
       "      <td>5905</td>\n",
       "      <td>Customer</td>\n",
       "      <td>1972.0</td>\n",
       "      <td>Male</td>\n",
       "      <td>No</td>\n",
       "    </tr>\n",
       "    <tr>\n",
       "      <th>3</th>\n",
       "      <td>36490</td>\n",
       "      <td>2019-02-28 17:54:26.010</td>\n",
       "      <td>2019-03-01 04:02:36.842</td>\n",
       "      <td>375.0</td>\n",
       "      <td>Grove St at Masonic Ave</td>\n",
       "      <td>37.774836</td>\n",
       "      <td>-122.446546</td>\n",
       "      <td>70.0</td>\n",
       "      <td>Central Ave at Fell St</td>\n",
       "      <td>37.773311</td>\n",
       "      <td>-122.444293</td>\n",
       "      <td>6638</td>\n",
       "      <td>Subscriber</td>\n",
       "      <td>1989.0</td>\n",
       "      <td>Other</td>\n",
       "      <td>No</td>\n",
       "    </tr>\n",
       "    <tr>\n",
       "      <th>4</th>\n",
       "      <td>1585</td>\n",
       "      <td>2019-02-28 23:54:18.549</td>\n",
       "      <td>2019-03-01 00:20:44.074</td>\n",
       "      <td>7.0</td>\n",
       "      <td>Frank H Ogawa Plaza</td>\n",
       "      <td>37.804562</td>\n",
       "      <td>-122.271738</td>\n",
       "      <td>222.0</td>\n",
       "      <td>10th Ave at E 15th St</td>\n",
       "      <td>37.792714</td>\n",
       "      <td>-122.248780</td>\n",
       "      <td>4898</td>\n",
       "      <td>Subscriber</td>\n",
       "      <td>1974.0</td>\n",
       "      <td>Male</td>\n",
       "      <td>Yes</td>\n",
       "    </tr>\n",
       "  </tbody>\n",
       "</table>\n",
       "</div>"
      ],
      "text/plain": [
       "   duration_sec              start_time                end_time  \\\n",
       "0         52185 2019-02-28 17:32:10.145 2019-03-01 08:01:55.975   \n",
       "1         42521 2019-02-28 18:53:21.789 2019-03-01 06:42:03.056   \n",
       "2         61854 2019-02-28 12:13:13.218 2019-03-01 05:24:08.146   \n",
       "3         36490 2019-02-28 17:54:26.010 2019-03-01 04:02:36.842   \n",
       "4          1585 2019-02-28 23:54:18.549 2019-03-01 00:20:44.074   \n",
       "\n",
       "  start_station_id                                start_station_name  \\\n",
       "0             21.0  Montgomery St BART Station (Market St at 2nd St)   \n",
       "1             23.0                     The Embarcadero at Steuart St   \n",
       "2             86.0                           Market St at Dolores St   \n",
       "3            375.0                           Grove St at Masonic Ave   \n",
       "4              7.0                               Frank H Ogawa Plaza   \n",
       "\n",
       "   start_station_latitude  start_station_longitude end_station_id  \\\n",
       "0               37.789625              -122.400811           13.0   \n",
       "1               37.791464              -122.391034           81.0   \n",
       "2               37.769305              -122.426826            3.0   \n",
       "3               37.774836              -122.446546           70.0   \n",
       "4               37.804562              -122.271738          222.0   \n",
       "\n",
       "                               end_station_name  end_station_latitude  \\\n",
       "0                Commercial St at Montgomery St             37.794231   \n",
       "1                            Berry St at 4th St             37.775880   \n",
       "2  Powell St BART Station (Market St at 4th St)             37.786375   \n",
       "3                        Central Ave at Fell St             37.773311   \n",
       "4                         10th Ave at E 15th St             37.792714   \n",
       "\n",
       "   end_station_longitude bike_id   user_type  member_birth_year member_gender  \\\n",
       "0            -122.402923    4902    Customer             1984.0          Male   \n",
       "1            -122.393170    2535    Customer                0.0             0   \n",
       "2            -122.404904    5905    Customer             1972.0          Male   \n",
       "3            -122.444293    6638  Subscriber             1989.0         Other   \n",
       "4            -122.248780    4898  Subscriber             1974.0          Male   \n",
       "\n",
       "  bike_share_for_all_trip  \n",
       "0                      No  \n",
       "1                      No  \n",
       "2                      No  \n",
       "3                      No  \n",
       "4                     Yes  "
      ]
     },
     "execution_count": 12,
     "metadata": {},
     "output_type": "execute_result"
    }
   ],
   "source": [
    "df_data_clean.head()"
   ]
  },
  {
   "cell_type": "code",
   "execution_count": 13,
   "metadata": {},
   "outputs": [
    {
     "data": {
      "text/plain": [
       "duration_sec               0\n",
       "start_time                 0\n",
       "end_time                   0\n",
       "start_station_id           0\n",
       "start_station_name         0\n",
       "start_station_latitude     0\n",
       "start_station_longitude    0\n",
       "end_station_id             0\n",
       "end_station_name           0\n",
       "end_station_latitude       0\n",
       "end_station_longitude      0\n",
       "bike_id                    0\n",
       "user_type                  0\n",
       "member_birth_year          0\n",
       "member_gender              0\n",
       "bike_share_for_all_trip    0\n",
       "dtype: int64"
      ]
     },
     "execution_count": 13,
     "metadata": {},
     "output_type": "execute_result"
    }
   ],
   "source": [
    "df_data_clean.isnull().sum()"
   ]
  },
  {
   "cell_type": "markdown",
   "metadata": {},
   "source": [
    "# Define"
   ]
  },
  {
   "cell_type": "markdown",
   "metadata": {},
   "source": [
    "# 3. Renaming a Long column name from 'bike_share_for_all_trip' to 'bike_share'"
   ]
  },
  {
   "cell_type": "code",
   "execution_count": 14,
   "metadata": {},
   "outputs": [
    {
     "data": {
      "text/html": [
       "<div>\n",
       "<style scoped>\n",
       "    .dataframe tbody tr th:only-of-type {\n",
       "        vertical-align: middle;\n",
       "    }\n",
       "\n",
       "    .dataframe tbody tr th {\n",
       "        vertical-align: top;\n",
       "    }\n",
       "\n",
       "    .dataframe thead th {\n",
       "        text-align: right;\n",
       "    }\n",
       "</style>\n",
       "<table border=\"1\" class=\"dataframe\">\n",
       "  <thead>\n",
       "    <tr style=\"text-align: right;\">\n",
       "      <th></th>\n",
       "      <th>duration_sec</th>\n",
       "      <th>start_time</th>\n",
       "      <th>end_time</th>\n",
       "      <th>start_station_id</th>\n",
       "      <th>start_station_name</th>\n",
       "      <th>start_station_latitude</th>\n",
       "      <th>start_station_longitude</th>\n",
       "      <th>end_station_id</th>\n",
       "      <th>end_station_name</th>\n",
       "      <th>end_station_latitude</th>\n",
       "      <th>end_station_longitude</th>\n",
       "      <th>bike_id</th>\n",
       "      <th>user_type</th>\n",
       "      <th>member_birth_year</th>\n",
       "      <th>member_gender</th>\n",
       "      <th>bike_share_for_all_trip</th>\n",
       "    </tr>\n",
       "  </thead>\n",
       "  <tbody>\n",
       "    <tr>\n",
       "      <th>0</th>\n",
       "      <td>52185</td>\n",
       "      <td>2019-02-28 17:32:10.145</td>\n",
       "      <td>2019-03-01 08:01:55.975</td>\n",
       "      <td>21.0</td>\n",
       "      <td>Montgomery St BART Station (Market St at 2nd St)</td>\n",
       "      <td>37.789625</td>\n",
       "      <td>-122.400811</td>\n",
       "      <td>13.0</td>\n",
       "      <td>Commercial St at Montgomery St</td>\n",
       "      <td>37.794231</td>\n",
       "      <td>-122.402923</td>\n",
       "      <td>4902</td>\n",
       "      <td>Customer</td>\n",
       "      <td>1984.0</td>\n",
       "      <td>Male</td>\n",
       "      <td>No</td>\n",
       "    </tr>\n",
       "    <tr>\n",
       "      <th>1</th>\n",
       "      <td>42521</td>\n",
       "      <td>2019-02-28 18:53:21.789</td>\n",
       "      <td>2019-03-01 06:42:03.056</td>\n",
       "      <td>23.0</td>\n",
       "      <td>The Embarcadero at Steuart St</td>\n",
       "      <td>37.791464</td>\n",
       "      <td>-122.391034</td>\n",
       "      <td>81.0</td>\n",
       "      <td>Berry St at 4th St</td>\n",
       "      <td>37.775880</td>\n",
       "      <td>-122.393170</td>\n",
       "      <td>2535</td>\n",
       "      <td>Customer</td>\n",
       "      <td>0.0</td>\n",
       "      <td>0</td>\n",
       "      <td>No</td>\n",
       "    </tr>\n",
       "    <tr>\n",
       "      <th>2</th>\n",
       "      <td>61854</td>\n",
       "      <td>2019-02-28 12:13:13.218</td>\n",
       "      <td>2019-03-01 05:24:08.146</td>\n",
       "      <td>86.0</td>\n",
       "      <td>Market St at Dolores St</td>\n",
       "      <td>37.769305</td>\n",
       "      <td>-122.426826</td>\n",
       "      <td>3.0</td>\n",
       "      <td>Powell St BART Station (Market St at 4th St)</td>\n",
       "      <td>37.786375</td>\n",
       "      <td>-122.404904</td>\n",
       "      <td>5905</td>\n",
       "      <td>Customer</td>\n",
       "      <td>1972.0</td>\n",
       "      <td>Male</td>\n",
       "      <td>No</td>\n",
       "    </tr>\n",
       "    <tr>\n",
       "      <th>3</th>\n",
       "      <td>36490</td>\n",
       "      <td>2019-02-28 17:54:26.010</td>\n",
       "      <td>2019-03-01 04:02:36.842</td>\n",
       "      <td>375.0</td>\n",
       "      <td>Grove St at Masonic Ave</td>\n",
       "      <td>37.774836</td>\n",
       "      <td>-122.446546</td>\n",
       "      <td>70.0</td>\n",
       "      <td>Central Ave at Fell St</td>\n",
       "      <td>37.773311</td>\n",
       "      <td>-122.444293</td>\n",
       "      <td>6638</td>\n",
       "      <td>Subscriber</td>\n",
       "      <td>1989.0</td>\n",
       "      <td>Other</td>\n",
       "      <td>No</td>\n",
       "    </tr>\n",
       "    <tr>\n",
       "      <th>4</th>\n",
       "      <td>1585</td>\n",
       "      <td>2019-02-28 23:54:18.549</td>\n",
       "      <td>2019-03-01 00:20:44.074</td>\n",
       "      <td>7.0</td>\n",
       "      <td>Frank H Ogawa Plaza</td>\n",
       "      <td>37.804562</td>\n",
       "      <td>-122.271738</td>\n",
       "      <td>222.0</td>\n",
       "      <td>10th Ave at E 15th St</td>\n",
       "      <td>37.792714</td>\n",
       "      <td>-122.248780</td>\n",
       "      <td>4898</td>\n",
       "      <td>Subscriber</td>\n",
       "      <td>1974.0</td>\n",
       "      <td>Male</td>\n",
       "      <td>Yes</td>\n",
       "    </tr>\n",
       "  </tbody>\n",
       "</table>\n",
       "</div>"
      ],
      "text/plain": [
       "   duration_sec              start_time                end_time  \\\n",
       "0         52185 2019-02-28 17:32:10.145 2019-03-01 08:01:55.975   \n",
       "1         42521 2019-02-28 18:53:21.789 2019-03-01 06:42:03.056   \n",
       "2         61854 2019-02-28 12:13:13.218 2019-03-01 05:24:08.146   \n",
       "3         36490 2019-02-28 17:54:26.010 2019-03-01 04:02:36.842   \n",
       "4          1585 2019-02-28 23:54:18.549 2019-03-01 00:20:44.074   \n",
       "\n",
       "  start_station_id                                start_station_name  \\\n",
       "0             21.0  Montgomery St BART Station (Market St at 2nd St)   \n",
       "1             23.0                     The Embarcadero at Steuart St   \n",
       "2             86.0                           Market St at Dolores St   \n",
       "3            375.0                           Grove St at Masonic Ave   \n",
       "4              7.0                               Frank H Ogawa Plaza   \n",
       "\n",
       "   start_station_latitude  start_station_longitude end_station_id  \\\n",
       "0               37.789625              -122.400811           13.0   \n",
       "1               37.791464              -122.391034           81.0   \n",
       "2               37.769305              -122.426826            3.0   \n",
       "3               37.774836              -122.446546           70.0   \n",
       "4               37.804562              -122.271738          222.0   \n",
       "\n",
       "                               end_station_name  end_station_latitude  \\\n",
       "0                Commercial St at Montgomery St             37.794231   \n",
       "1                            Berry St at 4th St             37.775880   \n",
       "2  Powell St BART Station (Market St at 4th St)             37.786375   \n",
       "3                        Central Ave at Fell St             37.773311   \n",
       "4                         10th Ave at E 15th St             37.792714   \n",
       "\n",
       "   end_station_longitude bike_id   user_type  member_birth_year member_gender  \\\n",
       "0            -122.402923    4902    Customer             1984.0          Male   \n",
       "1            -122.393170    2535    Customer                0.0             0   \n",
       "2            -122.404904    5905    Customer             1972.0          Male   \n",
       "3            -122.444293    6638  Subscriber             1989.0         Other   \n",
       "4            -122.248780    4898  Subscriber             1974.0          Male   \n",
       "\n",
       "  bike_share_for_all_trip  \n",
       "0                      No  \n",
       "1                      No  \n",
       "2                      No  \n",
       "3                      No  \n",
       "4                     Yes  "
      ]
     },
     "execution_count": 14,
     "metadata": {},
     "output_type": "execute_result"
    }
   ],
   "source": [
    "# Before renaming the columns\n",
    "df_data_clean.head()"
   ]
  },
  {
   "cell_type": "markdown",
   "metadata": {},
   "source": [
    "# Code"
   ]
  },
  {
   "cell_type": "code",
   "execution_count": 15,
   "metadata": {},
   "outputs": [],
   "source": [
    "# Renaming Column name\n",
    "df_data_clean.rename(columns = {'bike_share_for_all_trip':'bike_share'}, inplace = True)"
   ]
  },
  {
   "cell_type": "markdown",
   "metadata": {},
   "source": [
    "# Test"
   ]
  },
  {
   "cell_type": "code",
   "execution_count": 16,
   "metadata": {},
   "outputs": [
    {
     "data": {
      "text/html": [
       "<div>\n",
       "<style scoped>\n",
       "    .dataframe tbody tr th:only-of-type {\n",
       "        vertical-align: middle;\n",
       "    }\n",
       "\n",
       "    .dataframe tbody tr th {\n",
       "        vertical-align: top;\n",
       "    }\n",
       "\n",
       "    .dataframe thead th {\n",
       "        text-align: right;\n",
       "    }\n",
       "</style>\n",
       "<table border=\"1\" class=\"dataframe\">\n",
       "  <thead>\n",
       "    <tr style=\"text-align: right;\">\n",
       "      <th></th>\n",
       "      <th>duration_sec</th>\n",
       "      <th>start_time</th>\n",
       "      <th>end_time</th>\n",
       "      <th>start_station_id</th>\n",
       "      <th>start_station_name</th>\n",
       "      <th>start_station_latitude</th>\n",
       "      <th>start_station_longitude</th>\n",
       "      <th>end_station_id</th>\n",
       "      <th>end_station_name</th>\n",
       "      <th>end_station_latitude</th>\n",
       "      <th>end_station_longitude</th>\n",
       "      <th>bike_id</th>\n",
       "      <th>user_type</th>\n",
       "      <th>member_birth_year</th>\n",
       "      <th>member_gender</th>\n",
       "      <th>bike_share</th>\n",
       "    </tr>\n",
       "  </thead>\n",
       "  <tbody>\n",
       "    <tr>\n",
       "      <th>0</th>\n",
       "      <td>52185</td>\n",
       "      <td>2019-02-28 17:32:10.145</td>\n",
       "      <td>2019-03-01 08:01:55.975</td>\n",
       "      <td>21.0</td>\n",
       "      <td>Montgomery St BART Station (Market St at 2nd St)</td>\n",
       "      <td>37.789625</td>\n",
       "      <td>-122.400811</td>\n",
       "      <td>13.0</td>\n",
       "      <td>Commercial St at Montgomery St</td>\n",
       "      <td>37.794231</td>\n",
       "      <td>-122.402923</td>\n",
       "      <td>4902</td>\n",
       "      <td>Customer</td>\n",
       "      <td>1984.0</td>\n",
       "      <td>Male</td>\n",
       "      <td>No</td>\n",
       "    </tr>\n",
       "    <tr>\n",
       "      <th>1</th>\n",
       "      <td>42521</td>\n",
       "      <td>2019-02-28 18:53:21.789</td>\n",
       "      <td>2019-03-01 06:42:03.056</td>\n",
       "      <td>23.0</td>\n",
       "      <td>The Embarcadero at Steuart St</td>\n",
       "      <td>37.791464</td>\n",
       "      <td>-122.391034</td>\n",
       "      <td>81.0</td>\n",
       "      <td>Berry St at 4th St</td>\n",
       "      <td>37.775880</td>\n",
       "      <td>-122.393170</td>\n",
       "      <td>2535</td>\n",
       "      <td>Customer</td>\n",
       "      <td>0.0</td>\n",
       "      <td>0</td>\n",
       "      <td>No</td>\n",
       "    </tr>\n",
       "    <tr>\n",
       "      <th>2</th>\n",
       "      <td>61854</td>\n",
       "      <td>2019-02-28 12:13:13.218</td>\n",
       "      <td>2019-03-01 05:24:08.146</td>\n",
       "      <td>86.0</td>\n",
       "      <td>Market St at Dolores St</td>\n",
       "      <td>37.769305</td>\n",
       "      <td>-122.426826</td>\n",
       "      <td>3.0</td>\n",
       "      <td>Powell St BART Station (Market St at 4th St)</td>\n",
       "      <td>37.786375</td>\n",
       "      <td>-122.404904</td>\n",
       "      <td>5905</td>\n",
       "      <td>Customer</td>\n",
       "      <td>1972.0</td>\n",
       "      <td>Male</td>\n",
       "      <td>No</td>\n",
       "    </tr>\n",
       "    <tr>\n",
       "      <th>3</th>\n",
       "      <td>36490</td>\n",
       "      <td>2019-02-28 17:54:26.010</td>\n",
       "      <td>2019-03-01 04:02:36.842</td>\n",
       "      <td>375.0</td>\n",
       "      <td>Grove St at Masonic Ave</td>\n",
       "      <td>37.774836</td>\n",
       "      <td>-122.446546</td>\n",
       "      <td>70.0</td>\n",
       "      <td>Central Ave at Fell St</td>\n",
       "      <td>37.773311</td>\n",
       "      <td>-122.444293</td>\n",
       "      <td>6638</td>\n",
       "      <td>Subscriber</td>\n",
       "      <td>1989.0</td>\n",
       "      <td>Other</td>\n",
       "      <td>No</td>\n",
       "    </tr>\n",
       "    <tr>\n",
       "      <th>4</th>\n",
       "      <td>1585</td>\n",
       "      <td>2019-02-28 23:54:18.549</td>\n",
       "      <td>2019-03-01 00:20:44.074</td>\n",
       "      <td>7.0</td>\n",
       "      <td>Frank H Ogawa Plaza</td>\n",
       "      <td>37.804562</td>\n",
       "      <td>-122.271738</td>\n",
       "      <td>222.0</td>\n",
       "      <td>10th Ave at E 15th St</td>\n",
       "      <td>37.792714</td>\n",
       "      <td>-122.248780</td>\n",
       "      <td>4898</td>\n",
       "      <td>Subscriber</td>\n",
       "      <td>1974.0</td>\n",
       "      <td>Male</td>\n",
       "      <td>Yes</td>\n",
       "    </tr>\n",
       "  </tbody>\n",
       "</table>\n",
       "</div>"
      ],
      "text/plain": [
       "   duration_sec              start_time                end_time  \\\n",
       "0         52185 2019-02-28 17:32:10.145 2019-03-01 08:01:55.975   \n",
       "1         42521 2019-02-28 18:53:21.789 2019-03-01 06:42:03.056   \n",
       "2         61854 2019-02-28 12:13:13.218 2019-03-01 05:24:08.146   \n",
       "3         36490 2019-02-28 17:54:26.010 2019-03-01 04:02:36.842   \n",
       "4          1585 2019-02-28 23:54:18.549 2019-03-01 00:20:44.074   \n",
       "\n",
       "  start_station_id                                start_station_name  \\\n",
       "0             21.0  Montgomery St BART Station (Market St at 2nd St)   \n",
       "1             23.0                     The Embarcadero at Steuart St   \n",
       "2             86.0                           Market St at Dolores St   \n",
       "3            375.0                           Grove St at Masonic Ave   \n",
       "4              7.0                               Frank H Ogawa Plaza   \n",
       "\n",
       "   start_station_latitude  start_station_longitude end_station_id  \\\n",
       "0               37.789625              -122.400811           13.0   \n",
       "1               37.791464              -122.391034           81.0   \n",
       "2               37.769305              -122.426826            3.0   \n",
       "3               37.774836              -122.446546           70.0   \n",
       "4               37.804562              -122.271738          222.0   \n",
       "\n",
       "                               end_station_name  end_station_latitude  \\\n",
       "0                Commercial St at Montgomery St             37.794231   \n",
       "1                            Berry St at 4th St             37.775880   \n",
       "2  Powell St BART Station (Market St at 4th St)             37.786375   \n",
       "3                        Central Ave at Fell St             37.773311   \n",
       "4                         10th Ave at E 15th St             37.792714   \n",
       "\n",
       "   end_station_longitude bike_id   user_type  member_birth_year member_gender  \\\n",
       "0            -122.402923    4902    Customer             1984.0          Male   \n",
       "1            -122.393170    2535    Customer                0.0             0   \n",
       "2            -122.404904    5905    Customer             1972.0          Male   \n",
       "3            -122.444293    6638  Subscriber             1989.0         Other   \n",
       "4            -122.248780    4898  Subscriber             1974.0          Male   \n",
       "\n",
       "  bike_share  \n",
       "0         No  \n",
       "1         No  \n",
       "2         No  \n",
       "3         No  \n",
       "4        Yes  "
      ]
     },
     "execution_count": 16,
     "metadata": {},
     "output_type": "execute_result"
    }
   ],
   "source": [
    "df_data_clean.head()"
   ]
  },
  {
   "cell_type": "markdown",
   "metadata": {},
   "source": [
    "# Define"
   ]
  },
  {
   "cell_type": "markdown",
   "metadata": {},
   "source": [
    "  # 4. Adding the Age of each members"
   ]
  },
  {
   "cell_type": "markdown",
   "metadata": {},
   "source": [
    "# Code"
   ]
  },
  {
   "cell_type": "code",
   "execution_count": 17,
   "metadata": {},
   "outputs": [],
   "source": [
    "# calculating the age of the members by subtracting their birth year from the current year 2019\n",
    "df_data_clean['member_age'] = 2019 - df_data_clean['member_birth_year']"
   ]
  },
  {
   "cell_type": "markdown",
   "metadata": {},
   "source": [
    "# Test"
   ]
  },
  {
   "cell_type": "code",
   "execution_count": 18,
   "metadata": {},
   "outputs": [
    {
     "data": {
      "text/html": [
       "<div>\n",
       "<style scoped>\n",
       "    .dataframe tbody tr th:only-of-type {\n",
       "        vertical-align: middle;\n",
       "    }\n",
       "\n",
       "    .dataframe tbody tr th {\n",
       "        vertical-align: top;\n",
       "    }\n",
       "\n",
       "    .dataframe thead th {\n",
       "        text-align: right;\n",
       "    }\n",
       "</style>\n",
       "<table border=\"1\" class=\"dataframe\">\n",
       "  <thead>\n",
       "    <tr style=\"text-align: right;\">\n",
       "      <th></th>\n",
       "      <th>duration_sec</th>\n",
       "      <th>start_time</th>\n",
       "      <th>end_time</th>\n",
       "      <th>start_station_id</th>\n",
       "      <th>start_station_name</th>\n",
       "      <th>start_station_latitude</th>\n",
       "      <th>start_station_longitude</th>\n",
       "      <th>end_station_id</th>\n",
       "      <th>end_station_name</th>\n",
       "      <th>end_station_latitude</th>\n",
       "      <th>end_station_longitude</th>\n",
       "      <th>bike_id</th>\n",
       "      <th>user_type</th>\n",
       "      <th>member_birth_year</th>\n",
       "      <th>member_gender</th>\n",
       "      <th>bike_share</th>\n",
       "      <th>member_age</th>\n",
       "    </tr>\n",
       "  </thead>\n",
       "  <tbody>\n",
       "    <tr>\n",
       "      <th>0</th>\n",
       "      <td>52185</td>\n",
       "      <td>2019-02-28 17:32:10.145</td>\n",
       "      <td>2019-03-01 08:01:55.975</td>\n",
       "      <td>21.0</td>\n",
       "      <td>Montgomery St BART Station (Market St at 2nd St)</td>\n",
       "      <td>37.789625</td>\n",
       "      <td>-122.400811</td>\n",
       "      <td>13.0</td>\n",
       "      <td>Commercial St at Montgomery St</td>\n",
       "      <td>37.794231</td>\n",
       "      <td>-122.402923</td>\n",
       "      <td>4902</td>\n",
       "      <td>Customer</td>\n",
       "      <td>1984.0</td>\n",
       "      <td>Male</td>\n",
       "      <td>No</td>\n",
       "      <td>35.0</td>\n",
       "    </tr>\n",
       "    <tr>\n",
       "      <th>1</th>\n",
       "      <td>42521</td>\n",
       "      <td>2019-02-28 18:53:21.789</td>\n",
       "      <td>2019-03-01 06:42:03.056</td>\n",
       "      <td>23.0</td>\n",
       "      <td>The Embarcadero at Steuart St</td>\n",
       "      <td>37.791464</td>\n",
       "      <td>-122.391034</td>\n",
       "      <td>81.0</td>\n",
       "      <td>Berry St at 4th St</td>\n",
       "      <td>37.775880</td>\n",
       "      <td>-122.393170</td>\n",
       "      <td>2535</td>\n",
       "      <td>Customer</td>\n",
       "      <td>0.0</td>\n",
       "      <td>0</td>\n",
       "      <td>No</td>\n",
       "      <td>2019.0</td>\n",
       "    </tr>\n",
       "    <tr>\n",
       "      <th>2</th>\n",
       "      <td>61854</td>\n",
       "      <td>2019-02-28 12:13:13.218</td>\n",
       "      <td>2019-03-01 05:24:08.146</td>\n",
       "      <td>86.0</td>\n",
       "      <td>Market St at Dolores St</td>\n",
       "      <td>37.769305</td>\n",
       "      <td>-122.426826</td>\n",
       "      <td>3.0</td>\n",
       "      <td>Powell St BART Station (Market St at 4th St)</td>\n",
       "      <td>37.786375</td>\n",
       "      <td>-122.404904</td>\n",
       "      <td>5905</td>\n",
       "      <td>Customer</td>\n",
       "      <td>1972.0</td>\n",
       "      <td>Male</td>\n",
       "      <td>No</td>\n",
       "      <td>47.0</td>\n",
       "    </tr>\n",
       "    <tr>\n",
       "      <th>3</th>\n",
       "      <td>36490</td>\n",
       "      <td>2019-02-28 17:54:26.010</td>\n",
       "      <td>2019-03-01 04:02:36.842</td>\n",
       "      <td>375.0</td>\n",
       "      <td>Grove St at Masonic Ave</td>\n",
       "      <td>37.774836</td>\n",
       "      <td>-122.446546</td>\n",
       "      <td>70.0</td>\n",
       "      <td>Central Ave at Fell St</td>\n",
       "      <td>37.773311</td>\n",
       "      <td>-122.444293</td>\n",
       "      <td>6638</td>\n",
       "      <td>Subscriber</td>\n",
       "      <td>1989.0</td>\n",
       "      <td>Other</td>\n",
       "      <td>No</td>\n",
       "      <td>30.0</td>\n",
       "    </tr>\n",
       "    <tr>\n",
       "      <th>4</th>\n",
       "      <td>1585</td>\n",
       "      <td>2019-02-28 23:54:18.549</td>\n",
       "      <td>2019-03-01 00:20:44.074</td>\n",
       "      <td>7.0</td>\n",
       "      <td>Frank H Ogawa Plaza</td>\n",
       "      <td>37.804562</td>\n",
       "      <td>-122.271738</td>\n",
       "      <td>222.0</td>\n",
       "      <td>10th Ave at E 15th St</td>\n",
       "      <td>37.792714</td>\n",
       "      <td>-122.248780</td>\n",
       "      <td>4898</td>\n",
       "      <td>Subscriber</td>\n",
       "      <td>1974.0</td>\n",
       "      <td>Male</td>\n",
       "      <td>Yes</td>\n",
       "      <td>45.0</td>\n",
       "    </tr>\n",
       "  </tbody>\n",
       "</table>\n",
       "</div>"
      ],
      "text/plain": [
       "   duration_sec              start_time                end_time  \\\n",
       "0         52185 2019-02-28 17:32:10.145 2019-03-01 08:01:55.975   \n",
       "1         42521 2019-02-28 18:53:21.789 2019-03-01 06:42:03.056   \n",
       "2         61854 2019-02-28 12:13:13.218 2019-03-01 05:24:08.146   \n",
       "3         36490 2019-02-28 17:54:26.010 2019-03-01 04:02:36.842   \n",
       "4          1585 2019-02-28 23:54:18.549 2019-03-01 00:20:44.074   \n",
       "\n",
       "  start_station_id                                start_station_name  \\\n",
       "0             21.0  Montgomery St BART Station (Market St at 2nd St)   \n",
       "1             23.0                     The Embarcadero at Steuart St   \n",
       "2             86.0                           Market St at Dolores St   \n",
       "3            375.0                           Grove St at Masonic Ave   \n",
       "4              7.0                               Frank H Ogawa Plaza   \n",
       "\n",
       "   start_station_latitude  start_station_longitude end_station_id  \\\n",
       "0               37.789625              -122.400811           13.0   \n",
       "1               37.791464              -122.391034           81.0   \n",
       "2               37.769305              -122.426826            3.0   \n",
       "3               37.774836              -122.446546           70.0   \n",
       "4               37.804562              -122.271738          222.0   \n",
       "\n",
       "                               end_station_name  end_station_latitude  \\\n",
       "0                Commercial St at Montgomery St             37.794231   \n",
       "1                            Berry St at 4th St             37.775880   \n",
       "2  Powell St BART Station (Market St at 4th St)             37.786375   \n",
       "3                        Central Ave at Fell St             37.773311   \n",
       "4                         10th Ave at E 15th St             37.792714   \n",
       "\n",
       "   end_station_longitude bike_id   user_type  member_birth_year member_gender  \\\n",
       "0            -122.402923    4902    Customer             1984.0          Male   \n",
       "1            -122.393170    2535    Customer                0.0             0   \n",
       "2            -122.404904    5905    Customer             1972.0          Male   \n",
       "3            -122.444293    6638  Subscriber             1989.0         Other   \n",
       "4            -122.248780    4898  Subscriber             1974.0          Male   \n",
       "\n",
       "  bike_share  member_age  \n",
       "0         No        35.0  \n",
       "1         No      2019.0  \n",
       "2         No        47.0  \n",
       "3         No        30.0  \n",
       "4        Yes        45.0  "
      ]
     },
     "execution_count": 18,
     "metadata": {},
     "output_type": "execute_result"
    }
   ],
   "source": [
    "# Checking the dataset to be sure the action was effective\n",
    "df_data_clean.head()"
   ]
  },
  {
   "cell_type": "code",
   "execution_count": 19,
   "metadata": {},
   "outputs": [
    {
     "data": {
      "text/plain": [
       "count    183412.000000\n",
       "mean        123.633868\n",
       "std         411.850439\n",
       "min          18.000000\n",
       "25%          27.000000\n",
       "50%          32.000000\n",
       "75%          40.000000\n",
       "max        2019.000000\n",
       "Name: member_age, dtype: float64"
      ]
     },
     "execution_count": 19,
     "metadata": {},
     "output_type": "execute_result"
    }
   ],
   "source": [
    "# getting the statistics of the users age\n",
    "df_data_clean.member_age.describe()"
   ]
  },
  {
   "cell_type": "markdown",
   "metadata": {},
   "source": [
    "# From our results we can see that 75% of the users are under the age 40"
   ]
  },
  {
   "cell_type": "code",
   "execution_count": 20,
   "metadata": {},
   "outputs": [
    {
     "data": {
      "text/plain": [
       "count    183412.000000\n",
       "mean        123.633868\n",
       "std         411.850439\n",
       "min          18.000000\n",
       "50%          32.000000\n",
       "99%        2019.000000\n",
       "max        2019.000000\n",
       "Name: member_age, dtype: float64"
      ]
     },
     "execution_count": 20,
     "metadata": {},
     "output_type": "execute_result"
    }
   ],
   "source": [
    "# further checking where the bigger percentage lies\n",
    "df_data_clean.member_age.describe(percentiles=[.99])"
   ]
  },
  {
   "cell_type": "code",
   "execution_count": 21,
   "metadata": {},
   "outputs": [],
   "source": [
    "# we get to keep records of users with the age 64 and below\n",
    "df_data_clean = df_data_clean.query('member_age <= 64')"
   ]
  },
  {
   "cell_type": "code",
   "execution_count": 22,
   "metadata": {},
   "outputs": [],
   "source": [
    "# changing the datatype of the members age and year\n",
    "df_data_clean.member_birth_year = df_data_clean.member_birth_year.astype(int)\n",
    "df_data_clean.member_age = df_data_clean.member_age.astype(int)"
   ]
  },
  {
   "cell_type": "code",
   "execution_count": 23,
   "metadata": {},
   "outputs": [
    {
     "name": "stdout",
     "output_type": "stream",
     "text": [
      "<class 'pandas.core.frame.DataFrame'>\n",
      "Int64Index: 173467 entries, 0 to 183411\n",
      "Data columns (total 17 columns):\n",
      "duration_sec               173467 non-null int64\n",
      "start_time                 173467 non-null datetime64[ns]\n",
      "end_time                   173467 non-null datetime64[ns]\n",
      "start_station_id           173467 non-null object\n",
      "start_station_name         173467 non-null object\n",
      "start_station_latitude     173467 non-null float64\n",
      "start_station_longitude    173467 non-null float64\n",
      "end_station_id             173467 non-null object\n",
      "end_station_name           173467 non-null object\n",
      "end_station_latitude       173467 non-null float64\n",
      "end_station_longitude      173467 non-null float64\n",
      "bike_id                    173467 non-null object\n",
      "user_type                  173467 non-null category\n",
      "member_birth_year          173467 non-null int64\n",
      "member_gender              173467 non-null object\n",
      "bike_share                 173467 non-null category\n",
      "member_age                 173467 non-null int64\n",
      "dtypes: category(2), datetime64[ns](2), float64(4), int64(3), object(6)\n",
      "memory usage: 21.5+ MB\n"
     ]
    }
   ],
   "source": [
    "# testing our code\n",
    "df_data_clean.info()"
   ]
  },
  {
   "cell_type": "markdown",
   "metadata": {},
   "source": [
    "# Adding days and hours to the data for further diggings"
   ]
  },
  {
   "cell_type": "code",
   "execution_count": 24,
   "metadata": {},
   "outputs": [],
   "source": [
    "# extracting the hours\n",
    "df_data_clean['start_time_hour'] = df_data_clean['start_time'].dt.hour\n",
    "df_data_clean['end_time_hour'] = df_data_clean['end_time'].dt.hour\n"
   ]
  },
  {
   "cell_type": "code",
   "execution_count": 25,
   "metadata": {},
   "outputs": [],
   "source": [
    "# extracting the minutes from the seconds\n",
    "df_data_clean['duration_min'] = df_data_clean['duration_sec']/60\n",
    "\n",
    "#changing the datatype\n",
    "df_data_clean.duration_min = df_data_clean.duration_min.astype(int)"
   ]
  },
  {
   "cell_type": "code",
   "execution_count": 26,
   "metadata": {},
   "outputs": [],
   "source": [
    "# extracting the weekday\n",
    "df_data_clean['start_day_of_week']=df_data_clean['start_time'].dt.strftime('%a')\n"
   ]
  },
  {
   "cell_type": "code",
   "execution_count": 27,
   "metadata": {},
   "outputs": [
    {
     "data": {
      "text/html": [
       "<div>\n",
       "<style scoped>\n",
       "    .dataframe tbody tr th:only-of-type {\n",
       "        vertical-align: middle;\n",
       "    }\n",
       "\n",
       "    .dataframe tbody tr th {\n",
       "        vertical-align: top;\n",
       "    }\n",
       "\n",
       "    .dataframe thead th {\n",
       "        text-align: right;\n",
       "    }\n",
       "</style>\n",
       "<table border=\"1\" class=\"dataframe\">\n",
       "  <thead>\n",
       "    <tr style=\"text-align: right;\">\n",
       "      <th></th>\n",
       "      <th>duration_sec</th>\n",
       "      <th>start_time</th>\n",
       "      <th>end_time</th>\n",
       "      <th>start_station_id</th>\n",
       "      <th>start_station_name</th>\n",
       "      <th>start_station_latitude</th>\n",
       "      <th>start_station_longitude</th>\n",
       "      <th>end_station_id</th>\n",
       "      <th>end_station_name</th>\n",
       "      <th>end_station_latitude</th>\n",
       "      <th>...</th>\n",
       "      <th>bike_id</th>\n",
       "      <th>user_type</th>\n",
       "      <th>member_birth_year</th>\n",
       "      <th>member_gender</th>\n",
       "      <th>bike_share</th>\n",
       "      <th>member_age</th>\n",
       "      <th>start_time_hour</th>\n",
       "      <th>end_time_hour</th>\n",
       "      <th>duration_min</th>\n",
       "      <th>start_day_of_week</th>\n",
       "    </tr>\n",
       "  </thead>\n",
       "  <tbody>\n",
       "    <tr>\n",
       "      <th>0</th>\n",
       "      <td>52185</td>\n",
       "      <td>2019-02-28 17:32:10.145</td>\n",
       "      <td>2019-03-01 08:01:55.975</td>\n",
       "      <td>21.0</td>\n",
       "      <td>Montgomery St BART Station (Market St at 2nd St)</td>\n",
       "      <td>37.789625</td>\n",
       "      <td>-122.400811</td>\n",
       "      <td>13.0</td>\n",
       "      <td>Commercial St at Montgomery St</td>\n",
       "      <td>37.794231</td>\n",
       "      <td>...</td>\n",
       "      <td>4902</td>\n",
       "      <td>Customer</td>\n",
       "      <td>1984</td>\n",
       "      <td>Male</td>\n",
       "      <td>No</td>\n",
       "      <td>35</td>\n",
       "      <td>17</td>\n",
       "      <td>8</td>\n",
       "      <td>869</td>\n",
       "      <td>Thu</td>\n",
       "    </tr>\n",
       "    <tr>\n",
       "      <th>2</th>\n",
       "      <td>61854</td>\n",
       "      <td>2019-02-28 12:13:13.218</td>\n",
       "      <td>2019-03-01 05:24:08.146</td>\n",
       "      <td>86.0</td>\n",
       "      <td>Market St at Dolores St</td>\n",
       "      <td>37.769305</td>\n",
       "      <td>-122.426826</td>\n",
       "      <td>3.0</td>\n",
       "      <td>Powell St BART Station (Market St at 4th St)</td>\n",
       "      <td>37.786375</td>\n",
       "      <td>...</td>\n",
       "      <td>5905</td>\n",
       "      <td>Customer</td>\n",
       "      <td>1972</td>\n",
       "      <td>Male</td>\n",
       "      <td>No</td>\n",
       "      <td>47</td>\n",
       "      <td>12</td>\n",
       "      <td>5</td>\n",
       "      <td>1030</td>\n",
       "      <td>Thu</td>\n",
       "    </tr>\n",
       "    <tr>\n",
       "      <th>3</th>\n",
       "      <td>36490</td>\n",
       "      <td>2019-02-28 17:54:26.010</td>\n",
       "      <td>2019-03-01 04:02:36.842</td>\n",
       "      <td>375.0</td>\n",
       "      <td>Grove St at Masonic Ave</td>\n",
       "      <td>37.774836</td>\n",
       "      <td>-122.446546</td>\n",
       "      <td>70.0</td>\n",
       "      <td>Central Ave at Fell St</td>\n",
       "      <td>37.773311</td>\n",
       "      <td>...</td>\n",
       "      <td>6638</td>\n",
       "      <td>Subscriber</td>\n",
       "      <td>1989</td>\n",
       "      <td>Other</td>\n",
       "      <td>No</td>\n",
       "      <td>30</td>\n",
       "      <td>17</td>\n",
       "      <td>4</td>\n",
       "      <td>608</td>\n",
       "      <td>Thu</td>\n",
       "    </tr>\n",
       "    <tr>\n",
       "      <th>4</th>\n",
       "      <td>1585</td>\n",
       "      <td>2019-02-28 23:54:18.549</td>\n",
       "      <td>2019-03-01 00:20:44.074</td>\n",
       "      <td>7.0</td>\n",
       "      <td>Frank H Ogawa Plaza</td>\n",
       "      <td>37.804562</td>\n",
       "      <td>-122.271738</td>\n",
       "      <td>222.0</td>\n",
       "      <td>10th Ave at E 15th St</td>\n",
       "      <td>37.792714</td>\n",
       "      <td>...</td>\n",
       "      <td>4898</td>\n",
       "      <td>Subscriber</td>\n",
       "      <td>1974</td>\n",
       "      <td>Male</td>\n",
       "      <td>Yes</td>\n",
       "      <td>45</td>\n",
       "      <td>23</td>\n",
       "      <td>0</td>\n",
       "      <td>26</td>\n",
       "      <td>Thu</td>\n",
       "    </tr>\n",
       "    <tr>\n",
       "      <th>5</th>\n",
       "      <td>1793</td>\n",
       "      <td>2019-02-28 23:49:58.632</td>\n",
       "      <td>2019-03-01 00:19:51.760</td>\n",
       "      <td>93.0</td>\n",
       "      <td>4th St at Mission Bay Blvd S</td>\n",
       "      <td>37.770407</td>\n",
       "      <td>-122.391198</td>\n",
       "      <td>323.0</td>\n",
       "      <td>Broadway at Kearny</td>\n",
       "      <td>37.798014</td>\n",
       "      <td>...</td>\n",
       "      <td>5200</td>\n",
       "      <td>Subscriber</td>\n",
       "      <td>1959</td>\n",
       "      <td>Male</td>\n",
       "      <td>No</td>\n",
       "      <td>60</td>\n",
       "      <td>23</td>\n",
       "      <td>0</td>\n",
       "      <td>29</td>\n",
       "      <td>Thu</td>\n",
       "    </tr>\n",
       "  </tbody>\n",
       "</table>\n",
       "<p>5 rows × 21 columns</p>\n",
       "</div>"
      ],
      "text/plain": [
       "   duration_sec              start_time                end_time  \\\n",
       "0         52185 2019-02-28 17:32:10.145 2019-03-01 08:01:55.975   \n",
       "2         61854 2019-02-28 12:13:13.218 2019-03-01 05:24:08.146   \n",
       "3         36490 2019-02-28 17:54:26.010 2019-03-01 04:02:36.842   \n",
       "4          1585 2019-02-28 23:54:18.549 2019-03-01 00:20:44.074   \n",
       "5          1793 2019-02-28 23:49:58.632 2019-03-01 00:19:51.760   \n",
       "\n",
       "  start_station_id                                start_station_name  \\\n",
       "0             21.0  Montgomery St BART Station (Market St at 2nd St)   \n",
       "2             86.0                           Market St at Dolores St   \n",
       "3            375.0                           Grove St at Masonic Ave   \n",
       "4              7.0                               Frank H Ogawa Plaza   \n",
       "5             93.0                      4th St at Mission Bay Blvd S   \n",
       "\n",
       "   start_station_latitude  start_station_longitude end_station_id  \\\n",
       "0               37.789625              -122.400811           13.0   \n",
       "2               37.769305              -122.426826            3.0   \n",
       "3               37.774836              -122.446546           70.0   \n",
       "4               37.804562              -122.271738          222.0   \n",
       "5               37.770407              -122.391198          323.0   \n",
       "\n",
       "                               end_station_name  end_station_latitude  \\\n",
       "0                Commercial St at Montgomery St             37.794231   \n",
       "2  Powell St BART Station (Market St at 4th St)             37.786375   \n",
       "3                        Central Ave at Fell St             37.773311   \n",
       "4                         10th Ave at E 15th St             37.792714   \n",
       "5                            Broadway at Kearny             37.798014   \n",
       "\n",
       "         ...          bike_id   user_type member_birth_year  member_gender  \\\n",
       "0        ...             4902    Customer              1984           Male   \n",
       "2        ...             5905    Customer              1972           Male   \n",
       "3        ...             6638  Subscriber              1989          Other   \n",
       "4        ...             4898  Subscriber              1974           Male   \n",
       "5        ...             5200  Subscriber              1959           Male   \n",
       "\n",
       "  bike_share member_age  start_time_hour  end_time_hour  duration_min  \\\n",
       "0         No         35               17              8           869   \n",
       "2         No         47               12              5          1030   \n",
       "3         No         30               17              4           608   \n",
       "4        Yes         45               23              0            26   \n",
       "5         No         60               23              0            29   \n",
       "\n",
       "   start_day_of_week  \n",
       "0                Thu  \n",
       "2                Thu  \n",
       "3                Thu  \n",
       "4                Thu  \n",
       "5                Thu  \n",
       "\n",
       "[5 rows x 21 columns]"
      ]
     },
     "execution_count": 27,
     "metadata": {},
     "output_type": "execute_result"
    }
   ],
   "source": [
    "df_data_clean.head()"
   ]
  },
  {
   "cell_type": "code",
   "execution_count": 28,
   "metadata": {},
   "outputs": [
    {
     "name": "stdout",
     "output_type": "stream",
     "text": [
      "<class 'pandas.core.frame.DataFrame'>\n",
      "Int64Index: 173467 entries, 0 to 183411\n",
      "Data columns (total 21 columns):\n",
      "duration_sec               173467 non-null int64\n",
      "start_time                 173467 non-null datetime64[ns]\n",
      "end_time                   173467 non-null datetime64[ns]\n",
      "start_station_id           173467 non-null object\n",
      "start_station_name         173467 non-null object\n",
      "start_station_latitude     173467 non-null float64\n",
      "start_station_longitude    173467 non-null float64\n",
      "end_station_id             173467 non-null object\n",
      "end_station_name           173467 non-null object\n",
      "end_station_latitude       173467 non-null float64\n",
      "end_station_longitude      173467 non-null float64\n",
      "bike_id                    173467 non-null object\n",
      "user_type                  173467 non-null category\n",
      "member_birth_year          173467 non-null int64\n",
      "member_gender              173467 non-null object\n",
      "bike_share                 173467 non-null category\n",
      "member_age                 173467 non-null int64\n",
      "start_time_hour            173467 non-null int64\n",
      "end_time_hour              173467 non-null int64\n",
      "duration_min               173467 non-null int64\n",
      "start_day_of_week          173467 non-null object\n",
      "dtypes: category(2), datetime64[ns](2), float64(4), int64(6), object(7)\n",
      "memory usage: 26.8+ MB\n"
     ]
    }
   ],
   "source": [
    "df_data_clean.info()"
   ]
  },
  {
   "cell_type": "code",
   "execution_count": 29,
   "metadata": {},
   "outputs": [],
   "source": [
    "#saving the clean to a new file\n",
    "df_data_clean.to_csv('fordgobike_master.csv')"
   ]
  },
  {
   "cell_type": "markdown",
   "metadata": {},
   "source": [
    "### What is the structure of your dataset?"
   ]
  },
  {
   "cell_type": "markdown",
   "metadata": {},
   "source": [
    "# Answer"
   ]
  },
  {
   "cell_type": "raw",
   "metadata": {},
   "source": [
    "The data used is for the month of February in the year 2019 and it contained the following features:\n",
    "\n",
    ". start_time\n",
    ". end_time\n",
    ". start_station_id\n",
    ". start_station_name\n",
    ". start_station_latitude\n",
    ". start_station_longitude\n",
    ". end_station_id\n",
    ". end_station_name\n",
    ". end_station_latitude\n",
    ". end_station_longitude\n",
    ". bike_id\n",
    ". user_type\n",
    ". member_birth_year\n",
    ". member_gender\n",
    ". bike_share_for_all_trip"
   ]
  },
  {
   "cell_type": "markdown",
   "metadata": {},
   "source": [
    "# After doing some cleaning i add some columns which will be vital to my visualization and they are:"
   ]
  },
  {
   "cell_type": "raw",
   "metadata": {},
   "source": [
    ". member_age\n",
    ". start_day_of_week\n",
    ". start_time_hour\n",
    ". end_time_hour\n",
    ". duration_min"
   ]
  },
  {
   "cell_type": "markdown",
   "metadata": {},
   "source": [
    "# What is/are the main feature(s) of interest in your dataset?"
   ]
  },
  {
   "cell_type": "markdown",
   "metadata": {},
   "source": [
    "> I'm most interested in figuring out the age group and user type has higher riding minutes. I am also interested on finding out what time in a day and what date in a week has the highest number of trips.\n",
    "\n",
    "> Also,i won't be constrained on answering the above questions only, I will be listing the questions I would like to answer under the Questions section below."
   ]
  },
  {
   "cell_type": "markdown",
   "metadata": {},
   "source": [
    "# What features in the dataset do you think will help support your investigation into your feature(s) of interest?"
   ]
  },
  {
   "cell_type": "markdown",
   "metadata": {},
   "source": [
    "> The start time and end time really played a major role in the investigation and some other time based informations."
   ]
  },
  {
   "cell_type": "markdown",
   "metadata": {},
   "source": [
    "## Univariate Exploration\n",
    "\n",
    "> In this section, we are going to see the individual variables plots"
   ]
  },
  {
   "cell_type": "code",
   "execution_count": 30,
   "metadata": {},
   "outputs": [],
   "source": [
    "import seaborn as sns"
   ]
  },
  {
   "cell_type": "code",
   "execution_count": 31,
   "metadata": {},
   "outputs": [],
   "source": [
    "# first let's set our color to the base color\n",
    "base_color = sns.color_palette()[0]"
   ]
  },
  {
   "cell_type": "markdown",
   "metadata": {},
   "source": [
    "# Look at the Bikes usage by Gender"
   ]
  },
  {
   "cell_type": "code",
   "execution_count": 32,
   "metadata": {},
   "outputs": [
    {
     "data": {
      "text/plain": [
       "Male      129252\n",
       "Female     40613\n",
       "Other       3602\n",
       "Name: member_gender, dtype: int64"
      ]
     },
     "execution_count": 32,
     "metadata": {},
     "output_type": "execute_result"
    }
   ],
   "source": [
    "# looking at the value counts\n",
    "df_gender=df_data_clean.member_gender.value_counts()\n",
    "df_gender"
   ]
  },
  {
   "cell_type": "code",
   "execution_count": 33,
   "metadata": {},
   "outputs": [
    {
     "data": {
      "image/png": "[encoded data removed]",
      "text/plain": [
       "<matplotlib.figure.Figure at 0x7fecfea51208>"
      ]
     },
     "metadata": {},
     "output_type": "display_data"
    }
   ],
   "source": [
    "plt.pie(df_gender, labels = df_gender.index, startangle = 90, autopct= '%1.1f%%', counterclock = False, textprops={'color':'white'})\n",
    "plt.title('User by Gender', fontsize=16, fontweight='bold');\n",
    "plt.legend();"
   ]
  },
  {
   "cell_type": "markdown",
   "metadata": {},
   "source": [
    "# From the result above,Most users are male followed by female then the others."
   ]
  },
  {
   "cell_type": "markdown",
   "metadata": {},
   "source": [
    " \n",
    "\n",
    "# Looking at the weekly Usage"
   ]
  },
  {
   "cell_type": "code",
   "execution_count": 34,
   "metadata": {},
   "outputs": [
    {
     "data": {
      "text/plain": [
       "count     173467\n",
       "unique         7\n",
       "top          Thu\n",
       "freq       33422\n",
       "Name: start_day_of_week, dtype: object"
      ]
     },
     "execution_count": 34,
     "metadata": {},
     "output_type": "execute_result"
    }
   ],
   "source": [
    "# getting the statistics of the weekdays\n",
    "df_data_clean.start_day_of_week.describe()"
   ]
  },
  {
   "cell_type": "code",
   "execution_count": 35,
   "metadata": {},
   "outputs": [
    {
     "data": {
      "image/png": "[encoded data removed]",
      "text/plain": [
       "<matplotlib.figure.Figure at 0x7fecff3a8f28>"
      ]
     },
     "metadata": {
      "needs_background": "light"
     },
     "output_type": "display_data"
    }
   ],
   "source": [
    "df_weekday = ['Mon', 'Tue', 'Wed', 'Thu', 'Fri', 'Sat', 'Sun']\n",
    "plot= sns.factorplot(data=df_data_clean,x='start_day_of_week',kind='count',color=base_color,order=df_weekday)\n",
    "plot.set_axis_labels('Weekdays','Bike trips')\n",
    "plot.fig.suptitle('Usage by weekday',fontsize=16,fontweight='bold')\n",
    "plot.set_xticklabels(rotation=75);"
   ]
  },
  {
   "cell_type": "markdown",
   "metadata": {},
   "source": [
    "# From our data above we can clearly see that thurday is the day that the bikes are frequently used followed by tuesday. Saturdays and Sundays are when the number drops, therefore, we can make a conclusion that most users use the bikes mainly when commuting to work."
   ]
  },
  {
   "cell_type": "markdown",
   "metadata": {},
   "source": [
    "\n",
    "\n",
    "\n",
    "\n",
    "# Looking at Hourly usage"
   ]
  },
  {
   "cell_type": "code",
   "execution_count": 36,
   "metadata": {},
   "outputs": [
    {
     "data": {
      "text/plain": [
       "count    173467.000000\n",
       "mean         13.462768\n",
       "std           4.738521\n",
       "min           0.000000\n",
       "25%           9.000000\n",
       "50%          14.000000\n",
       "75%          17.000000\n",
       "max          23.000000\n",
       "Name: start_time_hour, dtype: float64"
      ]
     },
     "execution_count": 36,
     "metadata": {},
     "output_type": "execute_result"
    }
   ],
   "source": [
    "# getting the statistics of hourly usage\n",
    "df_data_clean.start_time_hour.describe()"
   ]
  },
  {
   "cell_type": "code",
   "execution_count": 37,
   "metadata": {},
   "outputs": [],
   "source": [
    "def label_basics(title: str, xlabel: str=\"\", ylabel: str=\"\", x_double: bool=False, y_double: bool=False):\n",
    "    \"\"\"A function to setup shared setting between graphs\n",
    "\n",
    "    Args:\n",
    "        title (str): Graph title\n",
    "        xlabel (str, optional): Text for x label. Defaults to \"\".\n",
    "        ylabel (str, optional): Text for y label. Defaults to \"\".\n",
    "        x_double (bool, optional): A boolean value to make the graph double in size in x axis. Defaults to False.\n",
    "        y_double (bool, optional): A boolean value to make the graph double in size in y axis. Defaults to False.\n",
    "    \"\"\"\n",
    "    \n",
    "    plt.title(title, fontsize=18, fontweight='bold')\n",
    "    plt.xlabel(xlabel, fontsize=14)\n",
    "    plt.ylabel(ylabel, fontsize=14)"
   ]
  },
  {
   "cell_type": "code",
   "execution_count": 38,
   "metadata": {},
   "outputs": [
    {
     "data": {
      "image/png": "[encoded data removed]",
      "text/plain": [
       "<matplotlib.figure.Figure at 0x7fed2df8bda0>"
      ]
     },
     "metadata": {
      "needs_background": "light"
     },
     "output_type": "display_data"
    }
   ],
   "source": [
    "sns.countplot(data=df_data_clean, x='start_time_hour',color=base_color);\n",
    "label_basics('Bikes Hourly Usage in 2019','Hours','Bikes Trips')"
   ]
  },
  {
   "cell_type": "markdown",
   "metadata": {},
   "source": [
    "# From our figure above we can tell that the bikes are highly used from 8-9 Am the curve drops but at around 5pm the number of users increased. We can conclude that they are highly used for commuting purposes."
   ]
  },
  {
   "cell_type": "markdown",
   "metadata": {},
   "source": [
    "# Looking at the duration by sec"
   ]
  },
  {
   "cell_type": "code",
   "execution_count": 39,
   "metadata": {},
   "outputs": [
    {
     "data": {
      "text/plain": [
       "count    173467.000000\n",
       "mean        704.089815\n",
       "std        1646.699459\n",
       "min          61.000000\n",
       "25%         323.000000\n",
       "50%         510.000000\n",
       "75%         788.000000\n",
       "max       84548.000000\n",
       "Name: duration_sec, dtype: float64"
      ]
     },
     "execution_count": 39,
     "metadata": {},
     "output_type": "execute_result"
    }
   ],
   "source": [
    "# getting the statistics of duration by sec\n",
    "df_data_clean.duration_sec.describe()"
   ]
  },
  {
   "cell_type": "code",
   "execution_count": 40,
   "metadata": {},
   "outputs": [
    {
     "data": {
      "image/png": "[encoded data removed]",
      "text/plain": [
       "<matplotlib.figure.Figure at 0x7fecf71ce908>"
      ]
     },
     "metadata": {
      "needs_background": "light"
     },
     "output_type": "display_data"
    }
   ],
   "source": [
    "bin_edges = np.arange(0,3600,60)\n",
    "plt.hist(data=df_data_clean,x='duration_sec',bins=bin_edges)\n",
    "label_basics('Bikes Trip Duration in Seconds','Duration (Sec)','Bikes Trips')"
   ]
  },
  {
   "cell_type": "markdown",
   "metadata": {},
   "source": [
    "# Looking at the histogram above, we can see that the rides duration are not more that 2000 sec which is about 33 minutes they mostly last around 8 minutes. This means that the distance covered is less."
   ]
  },
  {
   "cell_type": "markdown",
   "metadata": {},
   "source": [
    "# Look at duration by minutes"
   ]
  },
  {
   "cell_type": "code",
   "execution_count": 41,
   "metadata": {},
   "outputs": [
    {
     "data": {
      "text/plain": [
       "count    173467.000000\n",
       "mean         11.242905\n",
       "std          27.446221\n",
       "min           1.000000\n",
       "25%           5.000000\n",
       "50%           8.000000\n",
       "75%          13.000000\n",
       "max        1409.000000\n",
       "Name: duration_min, dtype: float64"
      ]
     },
     "execution_count": 41,
     "metadata": {},
     "output_type": "execute_result"
    }
   ],
   "source": [
    "# getting the statistics of duration by min\n",
    "df_data_clean.duration_min.describe()"
   ]
  },
  {
   "cell_type": "code",
   "execution_count": 42,
   "metadata": {},
   "outputs": [
    {
     "data": {
      "image/png": "[encoded data removed]",
      "text/plain": [
       "<matplotlib.figure.Figure at 0x7fecff256668>"
      ]
     },
     "metadata": {
      "needs_background": "light"
     },
     "output_type": "display_data"
    }
   ],
   "source": [
    "bin_edges = np.arange(0, 45, 1)\n",
    "ticks = [0, 5, 10, 15, 20, 25, 30,  35, 40, 45]\n",
    "labels = ['{}'.format(val) for val in ticks]\n",
    "\n",
    "plt.hist(data = df_data_clean, x = 'duration_min', bins = bin_edges, rwidth = 0.6);\n",
    "label_basics('Bikes Trip Duration in Minutes','Duration (Min)','Bike trips')"
   ]
  },
  {
   "cell_type": "markdown",
   "metadata": {},
   "source": [
    "# Look at the Age distribution"
   ]
  },
  {
   "cell_type": "code",
   "execution_count": 43,
   "metadata": {},
   "outputs": [
    {
     "data": {
      "text/plain": [
       "count    173467.000000\n",
       "mean         33.825333\n",
       "std           9.376947\n",
       "min          18.000000\n",
       "25%          27.000000\n",
       "50%          32.000000\n",
       "75%          39.000000\n",
       "max          64.000000\n",
       "Name: member_age, dtype: float64"
      ]
     },
     "execution_count": 43,
     "metadata": {},
     "output_type": "execute_result"
    }
   ],
   "source": [
    "# look at the age descriptives\n",
    "df_data_clean.member_age.describe()"
   ]
  },
  {
   "cell_type": "code",
   "execution_count": 44,
   "metadata": {},
   "outputs": [
    {
     "data": {
      "text/plain": [
       "33.825332772227569"
      ]
     },
     "execution_count": 44,
     "metadata": {},
     "output_type": "execute_result"
    }
   ],
   "source": [
    "# Look at their means\n",
    "df_data_clean.member_age.mean()"
   ]
  },
  {
   "cell_type": "code",
   "execution_count": 45,
   "metadata": {},
   "outputs": [
    {
     "data": {
      "image/png": "[encoded data removed]",
      "text/plain": [
       "<matplotlib.figure.Figure at 0x7fecff1714e0>"
      ]
     },
     "metadata": {
      "needs_background": "light"
     },
     "output_type": "display_data"
    }
   ],
   "source": [
    "plt.figure(figsize=(10,8))\n",
    "bin_edges = np.arange(15, 68, 5)\n",
    "\n",
    "plt.hist(data=df_data_clean, x='member_age',color=base_color, bins=bin_edges);\n",
    "label_basics('Members Age','Age in Years','User by Age')"
   ]
  },
  {
   "cell_type": "markdown",
   "metadata": {},
   "source": [
    "# The Average mean is 33 Years Old and from earlier analysis we remove those that were above 64 years old. We can also see that most users age are from 20-40 years olds."
   ]
  },
  {
   "cell_type": "markdown",
   "metadata": {},
   "source": [
    "### Discuss the distribution(s) of your variable(s) of interest. Were there any unusual points? Did you need to perform any transformations?\n",
    "\n",
    "> Some cleaning was done and i had to introduce some new columns but some features like age had some outliers. I had to set the minimum age to 15 and maximum to 68 years.\n",
    "\n",
    "### Of the features you investigated, were there any unusual distributions? Did you perform any operations on the data to tidy, adjust, or change the form of the data? If so, why did you do this?\n",
    "\n",
    "> As mentioned above the members age was set to be below 64 Years old after some cleaning since most range from 20-40 years old"
   ]
  },
  {
   "cell_type": "markdown",
   "metadata": {},
   "source": [
    "## Bivariate Exploration\n",
    "\n",
    "> In this section, I investigated the relationship between pairs of variables in the\n",
    "data. "
   ]
  },
  {
   "cell_type": "markdown",
   "metadata": {},
   "source": [
    "# Looking at the user type"
   ]
  },
  {
   "cell_type": "code",
   "execution_count": 46,
   "metadata": {},
   "outputs": [
    {
     "data": {
      "image/png": "[encoded data removed]",
      "text/plain": [
       "<matplotlib.figure.Figure at 0x7fecff08a5c0>"
      ]
     },
     "metadata": {},
     "output_type": "display_data"
    }
   ],
   "source": [
    "new_data = df_data_clean['user_type'].value_counts()/df_data_clean['user_type'].value_counts().sum()\n",
    "plt.pie(new_data, labels = new_data.index, autopct='%1.1f%%', shadow = 'True' , startangle = 90)\n",
    "plt.title('Type of Users', y=1.05, fontsize=14, fontweight='bold');"
   ]
  },
  {
   "cell_type": "markdown",
   "metadata": {},
   "source": [
    "# Further Visualization"
   ]
  },
  {
   "cell_type": "code",
   "execution_count": 47,
   "metadata": {},
   "outputs": [
    {
     "data": {
      "image/png": "[encoded data removed]",
      "text/plain": [
       "<matplotlib.figure.Figure at 0x7fecff0e29e8>"
      ]
     },
     "metadata": {
      "needs_background": "light"
     },
     "output_type": "display_data"
    }
   ],
   "source": [
    "sns.countplot(data=df_data_clean, x='user_type');\n",
    "label_basics('Customers vs Subscribers','Users','Bikes Trips')"
   ]
  },
  {
   "cell_type": "markdown",
   "metadata": {},
   "source": [
    "# Most bike users are subscribers represented by 90% while the customers are represented by 9%.\n",
    "\n",
    "# Now we are going to visualize the different kind of sunscribers against different times, that is, the daily and hourly"
   ]
  },
  {
   "cell_type": "markdown",
   "metadata": {},
   "source": [
    "# Looking at the Weekly usage Vs Users"
   ]
  },
  {
   "cell_type": "code",
   "execution_count": 48,
   "metadata": {},
   "outputs": [
    {
     "data": {
      "image/png": "[encoded data removed]",
      "text/plain": [
       "<matplotlib.figure.Figure at 0x7fecff0475f8>"
      ]
     },
     "metadata": {
      "needs_background": "light"
     },
     "output_type": "display_data"
    }
   ],
   "source": [
    "df_weekday = ['Mon','Tue','Wed','Thu','Fri','Sat','Sun']\n",
    "plot=sns.factorplot(data=df_data_clean,x='start_day_of_week',col='user_type',color=base_color,order=df_weekday,sharey=False,kind='count')\n",
    "plot.set_axis_labels('Weekday','Bike trips')\n",
    "plot.set_titles(\"{col_name}\")\n",
    "plt.suptitle('Bike Weekly Usage - Customers vs. Subscribers', y=1.05, fontsize=14, fontweight='bold');"
   ]
  },
  {
   "cell_type": "markdown",
   "metadata": {},
   "source": [
    "# The figure shows that there are different trends on weekly usage between customers and subscribers\n",
    "\n",
    "> For customers- Thursdays and Fridays has a wide range of users.\n",
    "\n",
    "> Subscribers- Thursdays and Tuesday has more users but we can see Thursday has more users in both."
   ]
  },
  {
   "cell_type": "markdown",
   "metadata": {},
   "source": [
    "# Looking at the Hourly usage Vs the users"
   ]
  },
  {
   "cell_type": "code",
   "execution_count": 49,
   "metadata": {},
   "outputs": [
    {
     "data": {
      "image/png": "[encoded data removed]",
      "text/plain": [
       "<matplotlib.figure.Figure at 0x7fecff238b00>"
      ]
     },
     "metadata": {
      "needs_background": "light"
     },
     "output_type": "display_data"
    }
   ],
   "source": [
    "plot= sns.factorplot(data=df_data_clean,x='start_time_hour',col='user_type',color=base_color,sharey=False,kind='count')\n",
    "plot.set_axis_labels('Hour','Bike trips')\n",
    "plot.set_titles(\"{col_name}\")\n",
    "plt.suptitle('Bike Hourly Usage - Customers vs. Subscribers', y=1.05, fontsize=14, fontweight='bold');"
   ]
  },
  {
   "cell_type": "markdown",
   "metadata": {},
   "source": [
    "# When it comes to hourly usage we can see that they both have similar trends whereby they are highly used in the morning hours that is 8-9 am and 5-6pm."
   ]
  },
  {
   "cell_type": "markdown",
   "metadata": {},
   "source": [
    "# Look at the duration in minutes Vs the type of users"
   ]
  },
  {
   "cell_type": "code",
   "execution_count": 50,
   "metadata": {},
   "outputs": [
    {
     "data": {
      "image/png": "[encoded data removed]",
      "text/plain": [
       "<matplotlib.figure.Figure at 0x7fecff194a90>"
      ]
     },
     "metadata": {
      "needs_background": "light"
     },
     "output_type": "display_data"
    }
   ],
   "source": [
    "sns.boxplot(data = df_data_clean.query('duration_min < 30'), x = 'user_type', y = 'duration_min')\n",
    "label_basics('Bikes Duration in Minutes-Customer vs. Subscribers','User Type','Duration in mins')"
   ]
  },
  {
   "cell_type": "markdown",
   "metadata": {},
   "source": [
    "# The duration in minutes varies depending on the type of users. Subscribers take shorter time in their trips that is between 5 and 13 minutes whille customers who do take longer lasts between 6 to 18 minutes."
   ]
  },
  {
   "cell_type": "markdown",
   "metadata": {},
   "source": [
    "# Look at the Members age Vs Type of users"
   ]
  },
  {
   "cell_type": "code",
   "execution_count": 51,
   "metadata": {},
   "outputs": [
    {
     "data": {
      "image/png": "[encoded data removed]",
      "text/plain": [
       "<matplotlib.figure.Figure at 0x7fecff2b64a8>"
      ]
     },
     "metadata": {
      "needs_background": "light"
     },
     "output_type": "display_data"
    }
   ],
   "source": [
    "plot= sns.factorplot(data=df_data_clean,x='member_age',col='user_type',color=base_color,sharey=False,kind='count', aspect= 2);\n",
    "plot.set_axis_labels('Age','Bike trips')\n",
    "plot.set_titles('{col_name}')\n",
    "plt.suptitle('Members Age - Customers vs. Subscribers', y=1.05, fontsize=14, fontweight='bold');\n",
    "plot.set_xticklabels(rotation=75);"
   ]
  },
  {
   "cell_type": "markdown",
   "metadata": {},
   "source": [
    "# Both do have the same kind of users but we can see that subsribers age threshold do vary a little bit but they both have more users who are of the age of 40 and below."
   ]
  },
  {
   "cell_type": "markdown",
   "metadata": {},
   "source": [
    "# Talk about some of the relationships you observed in this part of the investigation. How did the feature(s) of interest vary with other features in the dataset?\n",
    "\n",
    "> Introducing the different kind of users, made the analysis more interesting. The result gotten made it clear that subscribers do use the bikes more than the customers during the week for work purposes. Customers are mostly casual users and we can see that they only use the bikes when the week is ending.\n",
    "\n",
    "### Did you observe any interesting relationships between the other features (not the main feature(s) of interest)?\n",
    "\n",
    "> The analysis further shows us that the customers have longer trips than subscribers."
   ]
  },
  {
   "cell_type": "markdown",
   "metadata": {},
   "source": [
    "## Multivariate Exploration\n",
    "\n",
    "> Create plots of three or more variables to investigate your data even\n",
    "further."
   ]
  },
  {
   "cell_type": "markdown",
   "metadata": {},
   "source": [
    "# Looking at weekly usage Vs Gender Vs Users"
   ]
  },
  {
   "cell_type": "code",
   "execution_count": 52,
   "metadata": {},
   "outputs": [
    {
     "data": {
      "image/png": "[encoded data removed]",
      "text/plain": [
       "<matplotlib.figure.Figure at 0x7fecff2b6400>"
      ]
     },
     "metadata": {
      "needs_background": "light"
     },
     "output_type": "display_data"
    }
   ],
   "source": [
    "df_weekday = ['Mon','Tue','Wed','Thu','Fri','Sat','Sun']\n",
    "plot =sns.factorplot(data=df_data_clean,x='start_day_of_week',col='user_type',hue='member_gender',order=df_weekday,sharey=False,kind='count')\n",
    "plot.set_axis_labels('Weekday','Bike trips')\n",
    "plot.set_titles(\"{col_name}\")\n",
    "plot._legend.set_title('Gender')\n",
    "plt.suptitle('Bike Weekly Usage as per gender - Customers vs. Subscribers', y=1.05, fontsize=14, fontweight='bold');"
   ]
  },
  {
   "cell_type": "markdown",
   "metadata": {},
   "source": [
    "# Both type of users have males as the most frequent users. As compared to female users, male are the most subscribers and they frequently use the bikes during the week. As for customers, the most usage happens towards the weekend and used mostly by male."
   ]
  },
  {
   "cell_type": "markdown",
   "metadata": {},
   "source": [
    "# Looking at the relationship between gender,age and users."
   ]
  },
  {
   "cell_type": "code",
   "execution_count": 53,
   "metadata": {},
   "outputs": [
    {
     "data": {
      "image/png": "[encoded data removed]",
      "text/plain": [
       "<matplotlib.figure.Figure at 0x7fecff0b62e8>"
      ]
     },
     "metadata": {
      "needs_background": "light"
     },
     "output_type": "display_data"
    }
   ],
   "source": [
    "plot = sns.violinplot(data=df_data_clean, x='member_gender', y='member_age', hue=\"user_type\", split=True,  inner=\"quartile\")\n",
    "plot.set_xlabel(\"Gender\", fontsize=14)\n",
    "plot.set_ylabel(\"Age\", fontsize=14)\n",
    "plt.legend(title=\"User Type\");"
   ]
  },
  {
   "cell_type": "markdown",
   "metadata": {},
   "source": [
    "# The quartiles in both the subscribers and customers are a bit different in female and the other gender but male's quatiles are the same.\n",
    "\n",
    "\n",
    "# Look at the days of the week Vs Duration in seconds Vs Type of users"
   ]
  },
  {
   "cell_type": "code",
   "execution_count": 54,
   "metadata": {},
   "outputs": [
    {
     "data": {
      "image/png": "[encoded data removed]",
      "text/plain": [
       "<matplotlib.figure.Figure at 0x7fecff11f630>"
      ]
     },
     "metadata": {
      "needs_background": "light"
     },
     "output_type": "display_data"
    }
   ],
   "source": [
    "df_weekday = ['Mon','Tue','Wed','Thu','Fri','Sat','Sun']\n",
    "Plot=sns.pointplot(data=df_data_clean, x='start_day_of_week' , y='duration_sec', hue='user_type', order=df_weekday)\n",
    "label_basics('Trips During The Week','Days Of The Week','Trip Duration in Seconds')"
   ]
  },
  {
   "cell_type": "markdown",
   "metadata": {},
   "source": [
    "# Customers do take longer trips during the weekend as compared to subscribers."
   ]
  },
  {
   "cell_type": "markdown",
   "metadata": {},
   "source": [
    "### Talk about some of the relationships you observed in this part of the investigation. Were there features that strengthened each other in terms of looking at your feature(s) of interest?\n",
    "\n",
    "> Since Customers mostly look like they are either tourist we can see that they take longer trips more than the subscribers who take shorter trips during weekdays. We can also see that the perfomance of customers is not badly off there are people who still take trips during weekdays.\n",
    "\n",
    "### Were there any interesting or surprising interactions between features?\n",
    "\n",
    "> From the results gotten from the visualizations, We can clearly see that male were the frequent users as pointed out before."
   ]
  },
  {
   "cell_type": "markdown",
   "metadata": {},
   "source": [
    "## Conclusions\n",
    "> We can note the sharp difference betweeen the male and female users, both customers and subscribers was high."
   ]
  },
  {
   "cell_type": "code",
   "execution_count": null,
   "metadata": {},
   "outputs": [],
   "source": []
  }
 ],
 "metadata": {
  "kernelspec": {
   "display_name": "Python 3 (ipykernel)",
   "language": "python",
   "name": "python3"
  },
  "language_info": {
   "codemirror_mode": {
    "name": "ipython",
    "version": 3
   },
   "file_extension": ".py",
   "mimetype": "text/x-python",
   "name": "python",
   "nbconvert_exporter": "python",
   "pygments_lexer": "ipython3",
   "version": "3.9.7"
  }
 },
 "nbformat": 4,
 "nbformat_minor": 2
}
